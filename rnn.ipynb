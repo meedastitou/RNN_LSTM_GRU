{
 "cells": [
  {
   "cell_type": "code",
   "execution_count": 1,
   "id": "971e2459-503e-468f-bc0e-0958dc05cd42",
   "metadata": {},
   "outputs": [],
   "source": [
    "import torch\n",
    "from torchtext.vocab import build_vocab_from_iterator\n",
    "from torch.utils.data import DataLoader, Dataset"
   ]
  },
  {
   "cell_type": "code",
   "execution_count": 6,
   "id": "bc5b3bc3-c62b-464d-90d1-1db4be7a1b79",
   "metadata": {},
   "outputs": [],
   "source": [
    "# Charger les données\n",
    "import pandas as pd\n",
    "data = pd.read_csv(\"datasets\\hespress_proceced\")"
   ]
  },
  {
   "cell_type": "code",
   "execution_count": 7,
   "id": "328ca8c2-85f0-405e-b81e-4fb7ebb6f5a8",
   "metadata": {},
   "outputs": [
    {
     "data": {
      "text/html": [
       "<div>\n",
       "<style scoped>\n",
       "    .dataframe tbody tr th:only-of-type {\n",
       "        vertical-align: middle;\n",
       "    }\n",
       "\n",
       "    .dataframe tbody tr th {\n",
       "        vertical-align: top;\n",
       "    }\n",
       "\n",
       "    .dataframe thead th {\n",
       "        text-align: right;\n",
       "    }\n",
       "</style>\n",
       "<table border=\"1\" class=\"dataframe\">\n",
       "  <thead>\n",
       "    <tr style=\"text-align: right;\">\n",
       "      <th></th>\n",
       "      <th>post_content</th>\n",
       "      <th>note</th>\n",
       "      <th>processed_text</th>\n",
       "    </tr>\n",
       "  </thead>\n",
       "  <tbody>\n",
       "    <tr>\n",
       "      <th>0</th>\n",
       "      <td>تسلح يونس السكوري، وزير الإدماج الاقتصادي والم...</td>\n",
       "      <td>3.392897</td>\n",
       "      <td>تسلح يونس سكور زير ادماج اقتصاد مقاول صغرى تشغ...</td>\n",
       "    </tr>\n",
       "    <tr>\n",
       "      <th>1</th>\n",
       "      <td>أعادت واقعة “الاعتداء” الذي طال مسؤولا روسيا ف...</td>\n",
       "      <td>3.580410</td>\n",
       "      <td>اعاد واقع “ اعتداء ” طال مسوول روس دار بيضاء ن...</td>\n",
       "    </tr>\n",
       "    <tr>\n",
       "      <th>2</th>\n",
       "      <td>على بعد أسابيع من احتفالات رأس السنة تتجدد الم...</td>\n",
       "      <td>7.154203</td>\n",
       "      <td>اسابيع احتفال راس السن تتجدد مخاوف ارتفاع حال ...</td>\n",
       "    </tr>\n",
       "    <tr>\n",
       "      <th>3</th>\n",
       "      <td>كشف وزير العدل، عبد اللطيف وهبي، وجود محاولات ...</td>\n",
       "      <td>1.114053</td>\n",
       "      <td>كشف زير عدل عبد لطيف وهب جود محاول تخوض وزار ل...</td>\n",
       "    </tr>\n",
       "    <tr>\n",
       "      <th>4</th>\n",
       "      <td>نعت “مؤسسة دار الحديث الحسنية” التابعة لجامعة ...</td>\n",
       "      <td>1.107434</td>\n",
       "      <td>نعت “ موسس دار حديث حسن ” تابع جامع قرو اكاديم...</td>\n",
       "    </tr>\n",
       "  </tbody>\n",
       "</table>\n",
       "</div>"
      ],
      "text/plain": [
       "                                        post_content      note  \\\n",
       "0  تسلح يونس السكوري، وزير الإدماج الاقتصادي والم...  3.392897   \n",
       "1  أعادت واقعة “الاعتداء” الذي طال مسؤولا روسيا ف...  3.580410   \n",
       "2  على بعد أسابيع من احتفالات رأس السنة تتجدد الم...  7.154203   \n",
       "3  كشف وزير العدل، عبد اللطيف وهبي، وجود محاولات ...  1.114053   \n",
       "4  نعت “مؤسسة دار الحديث الحسنية” التابعة لجامعة ...  1.107434   \n",
       "\n",
       "                                      processed_text  \n",
       "0  تسلح يونس سكور زير ادماج اقتصاد مقاول صغرى تشغ...  \n",
       "1  اعاد واقع “ اعتداء ” طال مسوول روس دار بيضاء ن...  \n",
       "2  اسابيع احتفال راس السن تتجدد مخاوف ارتفاع حال ...  \n",
       "3  كشف زير عدل عبد لطيف وهب جود محاول تخوض وزار ل...  \n",
       "4  نعت “ موسس دار حديث حسن ” تابع جامع قرو اكاديم...  "
      ]
     },
     "execution_count": 7,
     "metadata": {},
     "output_type": "execute_result"
    }
   ],
   "source": [
    "data.head()"
   ]
  },
  {
   "cell_type": "code",
   "execution_count": 25,
   "id": "916daefd-cbe9-4414-b0d7-7db9ba701a13",
   "metadata": {},
   "outputs": [],
   "source": [
    "# Tokenisation simple\n",
    "data['tokens'] = data['processed_text'].apply(lambda x: x.split())\n",
    "\n",
    "# Construire un vocabulaire\n",
    "vocab = build_vocab_from_iterator(data['tokens'], specials=[\"<unk>\"])\n",
    "vocab.set_default_index(vocab[\"<unk>\"])\n",
    "\n",
    "# Transformer les textes en séquences d'entiers\n",
    "data['encoded'] = data['tokens'].apply(lambda x: [vocab[token] for token in x])\n",
    "\n",
    "# Remplir ou tronquer les séquences pour une longueur fixe\n",
    "MAX_LEN = 50\n",
    "data['padded'] = data['encoded'].apply(lambda x: x[:MAX_LEN] + [0] * max(0, MAX_LEN - len(x)))"
   ]
  },
  {
   "cell_type": "code",
   "execution_count": 26,
   "id": "970cca55-50ff-443c-91b2-36b9422bc37f",
   "metadata": {},
   "outputs": [],
   "source": [
    "class TextDataset(Dataset):\n",
    "    def __init__(self, data):\n",
    "        self.data = data\n",
    "\n",
    "    def __len__(self):\n",
    "        return len(self.data)\n",
    "\n",
    "    def __getitem__(self, idx):\n",
    "        text = torch.tensor(self.data.iloc[idx]['padded'], dtype=torch.long)\n",
    "        label = torch.tensor(self.data.iloc[idx]['note'], dtype=torch.float)\n",
    "        return text, label\n",
    "\n",
    "dataset = TextDataset(data)\n",
    "dataloader = DataLoader(dataset, batch_size=32, shuffle=True)\n"
   ]
  },
  {
   "cell_type": "code",
   "execution_count": 13,
   "id": "02cb5c76-f135-40e1-ac54-4530106de8bd",
   "metadata": {},
   "outputs": [],
   "source": [
    "import torch.nn as nn\n",
    "\n",
    "class SequenceModel(nn.Module):\n",
    "    def __init__(self, vocab_size, embed_size, hidden_size, model_type=\"RNN\"):\n",
    "        super(SequenceModel, self).__init__()\n",
    "        self.embedding = nn.Embedding(vocab_size, embed_size)\n",
    "        self.model_type = model_type\n",
    "        if model_type == \"RNN\":\n",
    "            self.rnn = nn.RNN(embed_size, hidden_size, batch_first=True)\n",
    "        elif model_type == \"BiRNN\":\n",
    "            self.rnn = nn.RNN(embed_size, hidden_size, batch_first=True, bidirectional=True)\n",
    "        elif model_type == \"GRU\":\n",
    "            self.rnn = nn.GRU(embed_size, hidden_size, batch_first=True)\n",
    "        elif model_type == \"LSTM\":\n",
    "            self.rnn = nn.LSTM(embed_size, hidden_size, batch_first=True)\n",
    "        self.fc = nn.Linear(hidden_size * (2 if \"Bi\" in model_type else 1), 1)\n",
    "\n",
    "    def forward(self, x):\n",
    "        x = self.embedding(x)\n",
    "        x, _ = self.rnn(x)\n",
    "        x = x[:, -1, :]  # Dernière sortie temporelle\n",
    "        x = self.fc(x)\n",
    "        return x\n"
   ]
  },
  {
   "cell_type": "code",
   "execution_count": 27,
   "id": "31b90929-836f-4580-a9d1-a86e6992f37d",
   "metadata": {},
   "outputs": [
    {
     "name": "stderr",
     "output_type": "stream",
     "text": [
      "the epoch 0/ 100: 100%|██████████████████████████████████████████████████████████████████| 1/1 [00:00<00:00, 62.67it/s]\n"
     ]
    },
    {
     "name": "stdout",
     "output_type": "stream",
     "text": [
      "Epoch 1, Loss: 24.4899\n"
     ]
    },
    {
     "name": "stderr",
     "output_type": "stream",
     "text": [
      "the epoch 1/ 100: 100%|██████████████████████████████████████████████████████████████████| 1/1 [00:00<00:00, 29.49it/s]\n"
     ]
    },
    {
     "name": "stdout",
     "output_type": "stream",
     "text": [
      "Epoch 2, Loss: 23.9633\n"
     ]
    },
    {
     "name": "stderr",
     "output_type": "stream",
     "text": [
      "the epoch 2/ 100: 100%|██████████████████████████████████████████████████████████████████| 1/1 [00:00<00:00, 34.57it/s]\n"
     ]
    },
    {
     "name": "stdout",
     "output_type": "stream",
     "text": [
      "Epoch 3, Loss: 23.4435\n"
     ]
    },
    {
     "name": "stderr",
     "output_type": "stream",
     "text": [
      "the epoch 3/ 100: 100%|██████████████████████████████████████████████████████████████████| 1/1 [00:00<00:00, 55.71it/s]\n"
     ]
    },
    {
     "name": "stdout",
     "output_type": "stream",
     "text": [
      "Epoch 4, Loss: 22.9288\n"
     ]
    },
    {
     "name": "stderr",
     "output_type": "stream",
     "text": [
      "the epoch 4/ 100: 100%|██████████████████████████████████████████████████████████████████| 1/1 [00:00<00:00, 40.11it/s]\n"
     ]
    },
    {
     "name": "stdout",
     "output_type": "stream",
     "text": [
      "Epoch 5, Loss: 22.4181\n"
     ]
    },
    {
     "name": "stderr",
     "output_type": "stream",
     "text": [
      "the epoch 5/ 100: 100%|██████████████████████████████████████████████████████████████████| 1/1 [00:00<00:00, 55.72it/s]\n"
     ]
    },
    {
     "name": "stdout",
     "output_type": "stream",
     "text": [
      "Epoch 6, Loss: 21.9095\n"
     ]
    },
    {
     "name": "stderr",
     "output_type": "stream",
     "text": [
      "the epoch 6/ 100: 100%|██████████████████████████████████████████████████████████████████| 1/1 [00:00<00:00, 55.74it/s]\n"
     ]
    },
    {
     "name": "stdout",
     "output_type": "stream",
     "text": [
      "Epoch 7, Loss: 21.4012\n"
     ]
    },
    {
     "name": "stderr",
     "output_type": "stream",
     "text": [
      "the epoch 7/ 100: 100%|██████████████████████████████████████████████████████████████████| 1/1 [00:00<00:00, 45.57it/s]\n"
     ]
    },
    {
     "name": "stdout",
     "output_type": "stream",
     "text": [
      "Epoch 8, Loss: 20.8911\n"
     ]
    },
    {
     "name": "stderr",
     "output_type": "stream",
     "text": [
      "the epoch 8/ 100: 100%|██████████████████████████████████████████████████████████████████| 1/1 [00:00<00:00, 43.60it/s]\n"
     ]
    },
    {
     "name": "stdout",
     "output_type": "stream",
     "text": [
      "Epoch 9, Loss: 20.3774\n"
     ]
    },
    {
     "name": "stderr",
     "output_type": "stream",
     "text": [
      "the epoch 9/ 100: 100%|██████████████████████████████████████████████████████████████████| 1/1 [00:00<00:00, 55.70it/s]\n"
     ]
    },
    {
     "name": "stdout",
     "output_type": "stream",
     "text": [
      "Epoch 10, Loss: 19.8584\n"
     ]
    },
    {
     "name": "stderr",
     "output_type": "stream",
     "text": [
      "the epoch 10/ 100: 100%|█████████████████████████████████████████████████████████████████| 1/1 [00:00<00:00, 62.66it/s]\n"
     ]
    },
    {
     "name": "stdout",
     "output_type": "stream",
     "text": [
      "Epoch 11, Loss: 19.3328\n"
     ]
    },
    {
     "name": "stderr",
     "output_type": "stream",
     "text": [
      "the epoch 11/ 100: 100%|█████████████████████████████████████████████████████████████████| 1/1 [00:00<00:00, 55.70it/s]\n"
     ]
    },
    {
     "name": "stdout",
     "output_type": "stream",
     "text": [
      "Epoch 12, Loss: 18.7991\n"
     ]
    },
    {
     "name": "stderr",
     "output_type": "stream",
     "text": [
      "the epoch 12/ 100: 100%|█████████████████████████████████████████████████████████████████| 1/1 [00:00<00:00,  4.92it/s]\n"
     ]
    },
    {
     "name": "stdout",
     "output_type": "stream",
     "text": [
      "Epoch 13, Loss: 18.2560\n"
     ]
    },
    {
     "name": "stderr",
     "output_type": "stream",
     "text": [
      "the epoch 13/ 100: 100%|█████████████████████████████████████████████████████████████████| 1/1 [00:00<00:00, 77.12it/s]\n"
     ]
    },
    {
     "name": "stdout",
     "output_type": "stream",
     "text": [
      "Epoch 14, Loss: 17.7023\n"
     ]
    },
    {
     "name": "stderr",
     "output_type": "stream",
     "text": [
      "the epoch 14/ 100: 100%|█████████████████████████████████████████████████████████████████| 1/1 [00:00<00:00, 27.85it/s]\n"
     ]
    },
    {
     "name": "stdout",
     "output_type": "stream",
     "text": [
      "Epoch 15, Loss: 17.1371\n"
     ]
    },
    {
     "name": "stderr",
     "output_type": "stream",
     "text": [
      "the epoch 15/ 100: 100%|█████████████████████████████████████████████████████████████████| 1/1 [00:00<00:00, 47.75it/s]\n"
     ]
    },
    {
     "name": "stdout",
     "output_type": "stream",
     "text": [
      "Epoch 16, Loss: 16.5593\n"
     ]
    },
    {
     "name": "stderr",
     "output_type": "stream",
     "text": [
      "the epoch 16/ 100: 100%|█████████████████████████████████████████████████████████████████| 1/1 [00:00<00:00, 38.57it/s]\n"
     ]
    },
    {
     "name": "stdout",
     "output_type": "stream",
     "text": [
      "Epoch 17, Loss: 15.9683\n"
     ]
    },
    {
     "name": "stderr",
     "output_type": "stream",
     "text": [
      "the epoch 17/ 100: 100%|█████████████████████████████████████████████████████████████████| 1/1 [00:00<00:00, 50.15it/s]\n"
     ]
    },
    {
     "name": "stdout",
     "output_type": "stream",
     "text": [
      "Epoch 18, Loss: 15.3636\n"
     ]
    },
    {
     "name": "stderr",
     "output_type": "stream",
     "text": [
      "the epoch 18/ 100: 100%|█████████████████████████████████████████████████████████████████| 1/1 [00:00<00:00, 55.71it/s]\n"
     ]
    },
    {
     "name": "stdout",
     "output_type": "stream",
     "text": [
      "Epoch 19, Loss: 14.7448\n"
     ]
    },
    {
     "name": "stderr",
     "output_type": "stream",
     "text": [
      "the epoch 19/ 100: 100%|█████████████████████████████████████████████████████████████████| 1/1 [00:00<00:00, 55.70it/s]\n"
     ]
    },
    {
     "name": "stdout",
     "output_type": "stream",
     "text": [
      "Epoch 20, Loss: 14.1117\n"
     ]
    },
    {
     "name": "stderr",
     "output_type": "stream",
     "text": [
      "the epoch 20/ 100: 100%|█████████████████████████████████████████████████████████████████| 1/1 [00:00<00:00, 55.71it/s]\n"
     ]
    },
    {
     "name": "stdout",
     "output_type": "stream",
     "text": [
      "Epoch 21, Loss: 13.4645\n"
     ]
    },
    {
     "name": "stderr",
     "output_type": "stream",
     "text": [
      "the epoch 21/ 100: 100%|█████████████████████████████████████████████████████████████████| 1/1 [00:00<00:00, 41.76it/s]\n"
     ]
    },
    {
     "name": "stdout",
     "output_type": "stream",
     "text": [
      "Epoch 22, Loss: 12.8037\n"
     ]
    },
    {
     "name": "stderr",
     "output_type": "stream",
     "text": [
      "the epoch 22/ 100: 100%|█████████████████████████████████████████████████████████████████| 1/1 [00:00<00:00, 15.19it/s]\n"
     ]
    },
    {
     "name": "stdout",
     "output_type": "stream",
     "text": [
      "Epoch 23, Loss: 12.1301\n"
     ]
    },
    {
     "name": "stderr",
     "output_type": "stream",
     "text": [
      "the epoch 23/ 100: 100%|█████████████████████████████████████████████████████████████████| 1/1 [00:00<00:00, 23.32it/s]\n"
     ]
    },
    {
     "name": "stdout",
     "output_type": "stream",
     "text": [
      "Epoch 24, Loss: 11.4451\n"
     ]
    },
    {
     "name": "stderr",
     "output_type": "stream",
     "text": [
      "the epoch 24/ 100: 100%|█████████████████████████████████████████████████████████████████| 1/1 [00:00<00:00, 50.13it/s]\n"
     ]
    },
    {
     "name": "stdout",
     "output_type": "stream",
     "text": [
      "Epoch 25, Loss: 10.7505\n"
     ]
    },
    {
     "name": "stderr",
     "output_type": "stream",
     "text": [
      "the epoch 25/ 100: 100%|█████████████████████████████████████████████████████████████████| 1/1 [00:00<00:00, 52.77it/s]\n"
     ]
    },
    {
     "name": "stdout",
     "output_type": "stream",
     "text": [
      "Epoch 26, Loss: 10.0489\n"
     ]
    },
    {
     "name": "stderr",
     "output_type": "stream",
     "text": [
      "the epoch 26/ 100: 100%|█████████████████████████████████████████████████████████████████| 1/1 [00:00<00:00, 45.58it/s]\n"
     ]
    },
    {
     "name": "stdout",
     "output_type": "stream",
     "text": [
      "Epoch 27, Loss: 9.3437\n"
     ]
    },
    {
     "name": "stderr",
     "output_type": "stream",
     "text": [
      "the epoch 27/ 100: 100%|█████████████████████████████████████████████████████████████████| 1/1 [00:00<00:00, 47.75it/s]\n"
     ]
    },
    {
     "name": "stdout",
     "output_type": "stream",
     "text": [
      "Epoch 28, Loss: 8.6394\n"
     ]
    },
    {
     "name": "stderr",
     "output_type": "stream",
     "text": [
      "the epoch 28/ 100: 100%|█████████████████████████████████████████████████████████████████| 1/1 [00:00<00:00, 43.60it/s]\n"
     ]
    },
    {
     "name": "stdout",
     "output_type": "stream",
     "text": [
      "Epoch 29, Loss: 7.9414\n"
     ]
    },
    {
     "name": "stderr",
     "output_type": "stream",
     "text": [
      "the epoch 29/ 100: 100%|█████████████████████████████████████████████████████████████████| 1/1 [00:00<00:00, 37.13it/s]\n"
     ]
    },
    {
     "name": "stdout",
     "output_type": "stream",
     "text": [
      "Epoch 30, Loss: 7.2569\n"
     ]
    },
    {
     "name": "stderr",
     "output_type": "stream",
     "text": [
      "the epoch 30/ 100: 100%|█████████████████████████████████████████████████████████████████| 1/1 [00:00<00:00, 47.75it/s]\n"
     ]
    },
    {
     "name": "stdout",
     "output_type": "stream",
     "text": [
      "Epoch 31, Loss: 6.5962\n"
     ]
    },
    {
     "name": "stderr",
     "output_type": "stream",
     "text": [
      "the epoch 31/ 100: 100%|█████████████████████████████████████████████████████████████████| 1/1 [00:00<00:00, 47.75it/s]\n"
     ]
    },
    {
     "name": "stdout",
     "output_type": "stream",
     "text": [
      "Epoch 32, Loss: 5.9761\n"
     ]
    },
    {
     "name": "stderr",
     "output_type": "stream",
     "text": [
      "the epoch 32/ 100: 100%|█████████████████████████████████████████████████████████████████| 1/1 [00:00<00:00, 43.59it/s]\n"
     ]
    },
    {
     "name": "stdout",
     "output_type": "stream",
     "text": [
      "Epoch 33, Loss: 5.4296\n"
     ]
    },
    {
     "name": "stderr",
     "output_type": "stream",
     "text": [
      "the epoch 33/ 100: 100%|█████████████████████████████████████████████████████████████████| 1/1 [00:00<00:00, 55.70it/s]\n"
     ]
    },
    {
     "name": "stdout",
     "output_type": "stream",
     "text": [
      "Epoch 34, Loss: 5.0095\n"
     ]
    },
    {
     "name": "stderr",
     "output_type": "stream",
     "text": [
      "the epoch 34/ 100: 100%|█████████████████████████████████████████████████████████████████| 1/1 [00:00<00:00, 50.13it/s]\n"
     ]
    },
    {
     "name": "stdout",
     "output_type": "stream",
     "text": [
      "Epoch 35, Loss: 4.7255\n"
     ]
    },
    {
     "name": "stderr",
     "output_type": "stream",
     "text": [
      "the epoch 35/ 100: 100%|█████████████████████████████████████████████████████████████████| 1/1 [00:00<00:00, 47.75it/s]\n"
     ]
    },
    {
     "name": "stdout",
     "output_type": "stream",
     "text": [
      "Epoch 36, Loss: 4.4682\n"
     ]
    },
    {
     "name": "stderr",
     "output_type": "stream",
     "text": [
      "the epoch 36/ 100: 100%|█████████████████████████████████████████████████████████████████| 1/1 [00:00<00:00, 50.14it/s]\n"
     ]
    },
    {
     "name": "stdout",
     "output_type": "stream",
     "text": [
      "Epoch 37, Loss: 4.1169\n"
     ]
    },
    {
     "name": "stderr",
     "output_type": "stream",
     "text": [
      "the epoch 37/ 100: 100%|█████████████████████████████████████████████████████████████████| 1/1 [00:00<00:00, 55.71it/s]\n"
     ]
    },
    {
     "name": "stdout",
     "output_type": "stream",
     "text": [
      "Epoch 38, Loss: 3.6521\n"
     ]
    },
    {
     "name": "stderr",
     "output_type": "stream",
     "text": [
      "the epoch 38/ 100: 100%|█████████████████████████████████████████████████████████████████| 1/1 [00:00<00:00, 52.77it/s]\n"
     ]
    },
    {
     "name": "stdout",
     "output_type": "stream",
     "text": [
      "Epoch 39, Loss: 3.1913\n"
     ]
    },
    {
     "name": "stderr",
     "output_type": "stream",
     "text": [
      "the epoch 39/ 100: 100%|█████████████████████████████████████████████████████████████████| 1/1 [00:00<00:00, 47.76it/s]\n"
     ]
    },
    {
     "name": "stdout",
     "output_type": "stream",
     "text": [
      "Epoch 40, Loss: 2.8526\n"
     ]
    },
    {
     "name": "stderr",
     "output_type": "stream",
     "text": [
      "the epoch 40/ 100: 100%|█████████████████████████████████████████████████████████████████| 1/1 [00:00<00:00, 50.14it/s]\n"
     ]
    },
    {
     "name": "stdout",
     "output_type": "stream",
     "text": [
      "Epoch 41, Loss: 2.6194\n"
     ]
    },
    {
     "name": "stderr",
     "output_type": "stream",
     "text": [
      "the epoch 41/ 100: 100%|█████████████████████████████████████████████████████████████████| 1/1 [00:00<00:00, 50.13it/s]\n"
     ]
    },
    {
     "name": "stdout",
     "output_type": "stream",
     "text": [
      "Epoch 42, Loss: 2.4400\n"
     ]
    },
    {
     "name": "stderr",
     "output_type": "stream",
     "text": [
      "the epoch 42/ 100: 100%|█████████████████████████████████████████████████████████████████| 1/1 [00:00<00:00, 50.14it/s]\n"
     ]
    },
    {
     "name": "stdout",
     "output_type": "stream",
     "text": [
      "Epoch 43, Loss: 2.2884\n"
     ]
    },
    {
     "name": "stderr",
     "output_type": "stream",
     "text": [
      "the epoch 43/ 100: 100%|█████████████████████████████████████████████████████████████████| 1/1 [00:00<00:00, 47.75it/s]\n"
     ]
    },
    {
     "name": "stdout",
     "output_type": "stream",
     "text": [
      "Epoch 44, Loss: 2.1543\n"
     ]
    },
    {
     "name": "stderr",
     "output_type": "stream",
     "text": [
      "the epoch 44/ 100: 100%|█████████████████████████████████████████████████████████████████| 1/1 [00:00<00:00, 45.57it/s]\n"
     ]
    },
    {
     "name": "stdout",
     "output_type": "stream",
     "text": [
      "Epoch 45, Loss: 2.0332\n"
     ]
    },
    {
     "name": "stderr",
     "output_type": "stream",
     "text": [
      "the epoch 45/ 100: 100%|█████████████████████████████████████████████████████████████████| 1/1 [00:00<00:00, 25.07it/s]\n"
     ]
    },
    {
     "name": "stdout",
     "output_type": "stream",
     "text": [
      "Epoch 46, Loss: 1.9228\n"
     ]
    },
    {
     "name": "stderr",
     "output_type": "stream",
     "text": [
      "the epoch 46/ 100: 100%|█████████████████████████████████████████████████████████████████| 1/1 [00:00<00:00, 27.85it/s]\n"
     ]
    },
    {
     "name": "stdout",
     "output_type": "stream",
     "text": [
      "Epoch 47, Loss: 1.8217\n"
     ]
    },
    {
     "name": "stderr",
     "output_type": "stream",
     "text": [
      "the epoch 47/ 100: 100%|█████████████████████████████████████████████████████████████████| 1/1 [00:00<00:00, 52.78it/s]\n"
     ]
    },
    {
     "name": "stdout",
     "output_type": "stream",
     "text": [
      "Epoch 48, Loss: 1.7283\n"
     ]
    },
    {
     "name": "stderr",
     "output_type": "stream",
     "text": [
      "the epoch 48/ 100: 100%|█████████████████████████████████████████████████████████████████| 1/1 [00:00<00:00, 52.76it/s]\n"
     ]
    },
    {
     "name": "stdout",
     "output_type": "stream",
     "text": [
      "Epoch 49, Loss: 1.6410\n"
     ]
    },
    {
     "name": "stderr",
     "output_type": "stream",
     "text": [
      "the epoch 49/ 100: 100%|█████████████████████████████████████████████████████████████████| 1/1 [00:00<00:00, 52.77it/s]\n"
     ]
    },
    {
     "name": "stdout",
     "output_type": "stream",
     "text": [
      "Epoch 50, Loss: 1.5583\n"
     ]
    },
    {
     "name": "stderr",
     "output_type": "stream",
     "text": [
      "the epoch 50/ 100: 100%|█████████████████████████████████████████████████████████████████| 1/1 [00:00<00:00, 62.67it/s]\n"
     ]
    },
    {
     "name": "stdout",
     "output_type": "stream",
     "text": [
      "Epoch 51, Loss: 1.4788\n"
     ]
    },
    {
     "name": "stderr",
     "output_type": "stream",
     "text": [
      "the epoch 51/ 100: 100%|█████████████████████████████████████████████████████████████████| 1/1 [00:00<00:00, 58.98it/s]\n"
     ]
    },
    {
     "name": "stdout",
     "output_type": "stream",
     "text": [
      "Epoch 52, Loss: 1.4011\n"
     ]
    },
    {
     "name": "stderr",
     "output_type": "stream",
     "text": [
      "the epoch 52/ 100: 100%|█████████████████████████████████████████████████████████████████| 1/1 [00:00<00:00, 58.99it/s]\n"
     ]
    },
    {
     "name": "stdout",
     "output_type": "stream",
     "text": [
      "Epoch 53, Loss: 1.3246\n"
     ]
    },
    {
     "name": "stderr",
     "output_type": "stream",
     "text": [
      "the epoch 53/ 100: 100%|█████████████████████████████████████████████████████████████████| 1/1 [00:00<00:00, 10.78it/s]\n"
     ]
    },
    {
     "name": "stdout",
     "output_type": "stream",
     "text": [
      "Epoch 54, Loss: 1.2491\n"
     ]
    },
    {
     "name": "stderr",
     "output_type": "stream",
     "text": [
      "the epoch 54/ 100: 100%|█████████████████████████████████████████████████████████████████| 1/1 [00:00<00:00, 11.27it/s]\n"
     ]
    },
    {
     "name": "stdout",
     "output_type": "stream",
     "text": [
      "Epoch 55, Loss: 1.1751\n"
     ]
    },
    {
     "name": "stderr",
     "output_type": "stream",
     "text": [
      "the epoch 55/ 100: 100%|█████████████████████████████████████████████████████████████████| 1/1 [00:00<00:00, 50.14it/s]\n"
     ]
    },
    {
     "name": "stdout",
     "output_type": "stream",
     "text": [
      "Epoch 56, Loss: 1.1032\n"
     ]
    },
    {
     "name": "stderr",
     "output_type": "stream",
     "text": [
      "the epoch 56/ 100: 100%|█████████████████████████████████████████████████████████████████| 1/1 [00:00<00:00, 43.60it/s]\n"
     ]
    },
    {
     "name": "stdout",
     "output_type": "stream",
     "text": [
      "Epoch 57, Loss: 1.0344\n"
     ]
    },
    {
     "name": "stderr",
     "output_type": "stream",
     "text": [
      "the epoch 57/ 100: 100%|█████████████████████████████████████████████████████████████████| 1/1 [00:00<00:00, 27.85it/s]\n"
     ]
    },
    {
     "name": "stdout",
     "output_type": "stream",
     "text": [
      "Epoch 58, Loss: 0.9696\n"
     ]
    },
    {
     "name": "stderr",
     "output_type": "stream",
     "text": [
      "the epoch 58/ 100: 100%|█████████████████████████████████████████████████████████████████| 1/1 [00:00<00:00, 29.49it/s]\n"
     ]
    },
    {
     "name": "stdout",
     "output_type": "stream",
     "text": [
      "Epoch 59, Loss: 0.9095\n"
     ]
    },
    {
     "name": "stderr",
     "output_type": "stream",
     "text": [
      "the epoch 59/ 100: 100%|█████████████████████████████████████████████████████████████████| 1/1 [00:00<00:00, 16.71it/s]\n"
     ]
    },
    {
     "name": "stdout",
     "output_type": "stream",
     "text": [
      "Epoch 60, Loss: 0.8544\n"
     ]
    },
    {
     "name": "stderr",
     "output_type": "stream",
     "text": [
      "the epoch 60/ 100: 100%|█████████████████████████████████████████████████████████████████| 1/1 [00:00<00:00, 71.62it/s]\n"
     ]
    },
    {
     "name": "stdout",
     "output_type": "stream",
     "text": [
      "Epoch 61, Loss: 0.8044\n"
     ]
    },
    {
     "name": "stderr",
     "output_type": "stream",
     "text": [
      "the epoch 61/ 100: 100%|█████████████████████████████████████████████████████████████████| 1/1 [00:00<00:00, 62.67it/s]\n"
     ]
    },
    {
     "name": "stdout",
     "output_type": "stream",
     "text": [
      "Epoch 62, Loss: 0.7591\n"
     ]
    },
    {
     "name": "stderr",
     "output_type": "stream",
     "text": [
      "the epoch 62/ 100: 100%|█████████████████████████████████████████████████████████████████| 1/1 [00:00<00:00, 55.70it/s]\n"
     ]
    },
    {
     "name": "stdout",
     "output_type": "stream",
     "text": [
      "Epoch 63, Loss: 0.7183\n"
     ]
    },
    {
     "name": "stderr",
     "output_type": "stream",
     "text": [
      "the epoch 63/ 100: 100%|█████████████████████████████████████████████████████████████████| 1/1 [00:00<00:00, 33.42it/s]\n"
     ]
    },
    {
     "name": "stdout",
     "output_type": "stream",
     "text": [
      "Epoch 64, Loss: 0.6817\n"
     ]
    },
    {
     "name": "stderr",
     "output_type": "stream",
     "text": [
      "the epoch 64/ 100: 100%|█████████████████████████████████████████████████████████████████| 1/1 [00:00<00:00, 30.38it/s]\n"
     ]
    },
    {
     "name": "stdout",
     "output_type": "stream",
     "text": [
      "Epoch 65, Loss: 0.6487\n"
     ]
    },
    {
     "name": "stderr",
     "output_type": "stream",
     "text": [
      "the epoch 65/ 100: 100%|█████████████████████████████████████████████████████████████████| 1/1 [00:00<00:00, 33.42it/s]\n"
     ]
    },
    {
     "name": "stdout",
     "output_type": "stream",
     "text": [
      "Epoch 66, Loss: 0.6192\n"
     ]
    },
    {
     "name": "stderr",
     "output_type": "stream",
     "text": [
      "the epoch 66/ 100: 100%|█████████████████████████████████████████████████████████████████| 1/1 [00:00<00:00, 28.65it/s]\n"
     ]
    },
    {
     "name": "stdout",
     "output_type": "stream",
     "text": [
      "Epoch 67, Loss: 0.5926\n"
     ]
    },
    {
     "name": "stderr",
     "output_type": "stream",
     "text": [
      "the epoch 67/ 100: 100%|█████████████████████████████████████████████████████████████████| 1/1 [00:00<00:00, 41.78it/s]\n"
     ]
    },
    {
     "name": "stdout",
     "output_type": "stream",
     "text": [
      "Epoch 68, Loss: 0.5689\n"
     ]
    },
    {
     "name": "stderr",
     "output_type": "stream",
     "text": [
      "the epoch 68/ 100: 100%|█████████████████████████████████████████████████████████████████| 1/1 [00:00<00:00, 71.62it/s]\n"
     ]
    },
    {
     "name": "stdout",
     "output_type": "stream",
     "text": [
      "Epoch 69, Loss: 0.5476\n"
     ]
    },
    {
     "name": "stderr",
     "output_type": "stream",
     "text": [
      "the epoch 69/ 100: 100%|█████████████████████████████████████████████████████████████████| 1/1 [00:00<00:00, 71.62it/s]\n"
     ]
    },
    {
     "name": "stdout",
     "output_type": "stream",
     "text": [
      "Epoch 70, Loss: 0.5286\n"
     ]
    },
    {
     "name": "stderr",
     "output_type": "stream",
     "text": [
      "the epoch 70/ 100: 100%|█████████████████████████████████████████████████████████████████| 1/1 [00:00<00:00, 50.14it/s]\n"
     ]
    },
    {
     "name": "stdout",
     "output_type": "stream",
     "text": [
      "Epoch 71, Loss: 0.5117\n"
     ]
    },
    {
     "name": "stderr",
     "output_type": "stream",
     "text": [
      "the epoch 71/ 100: 100%|█████████████████████████████████████████████████████████████████| 1/1 [00:00<00:00, 29.49it/s]\n"
     ]
    },
    {
     "name": "stdout",
     "output_type": "stream",
     "text": [
      "Epoch 72, Loss: 0.4968\n"
     ]
    },
    {
     "name": "stderr",
     "output_type": "stream",
     "text": [
      "the epoch 72/ 100: 100%|█████████████████████████████████████████████████████████████████| 1/1 [00:00<00:00, 25.07it/s]\n"
     ]
    },
    {
     "name": "stdout",
     "output_type": "stream",
     "text": [
      "Epoch 73, Loss: 0.4836\n"
     ]
    },
    {
     "name": "stderr",
     "output_type": "stream",
     "text": [
      "the epoch 73/ 100: 100%|█████████████████████████████████████████████████████████████████| 1/1 [00:00<00:00, 20.89it/s]\n"
     ]
    },
    {
     "name": "stdout",
     "output_type": "stream",
     "text": [
      "Epoch 74, Loss: 0.4719\n"
     ]
    },
    {
     "name": "stderr",
     "output_type": "stream",
     "text": [
      "the epoch 74/ 100: 100%|█████████████████████████████████████████████████████████████████| 1/1 [00:00<00:00, 43.60it/s]\n"
     ]
    },
    {
     "name": "stdout",
     "output_type": "stream",
     "text": [
      "Epoch 75, Loss: 0.4614\n"
     ]
    },
    {
     "name": "stderr",
     "output_type": "stream",
     "text": [
      "the epoch 75/ 100: 100%|█████████████████████████████████████████████████████████████████| 1/1 [00:00<00:00, 71.62it/s]\n"
     ]
    },
    {
     "name": "stdout",
     "output_type": "stream",
     "text": [
      "Epoch 76, Loss: 0.4519\n"
     ]
    },
    {
     "name": "stderr",
     "output_type": "stream",
     "text": [
      "the epoch 76/ 100: 100%|█████████████████████████████████████████████████████████████████| 1/1 [00:00<00:00, 58.98it/s]\n"
     ]
    },
    {
     "name": "stdout",
     "output_type": "stream",
     "text": [
      "Epoch 77, Loss: 0.4431\n"
     ]
    },
    {
     "name": "stderr",
     "output_type": "stream",
     "text": [
      "the epoch 77/ 100: 100%|█████████████████████████████████████████████████████████████████| 1/1 [00:00<00:00, 55.71it/s]\n"
     ]
    },
    {
     "name": "stdout",
     "output_type": "stream",
     "text": [
      "Epoch 78, Loss: 0.4347\n"
     ]
    },
    {
     "name": "stderr",
     "output_type": "stream",
     "text": [
      "the epoch 78/ 100: 100%|█████████████████████████████████████████████████████████████████| 1/1 [00:00<00:00, 47.74it/s]\n"
     ]
    },
    {
     "name": "stdout",
     "output_type": "stream",
     "text": [
      "Epoch 79, Loss: 0.4265\n"
     ]
    },
    {
     "name": "stderr",
     "output_type": "stream",
     "text": [
      "the epoch 79/ 100: 100%|█████████████████████████████████████████████████████████████████| 1/1 [00:00<00:00, 25.71it/s]\n"
     ]
    },
    {
     "name": "stdout",
     "output_type": "stream",
     "text": [
      "Epoch 80, Loss: 0.4183\n"
     ]
    },
    {
     "name": "stderr",
     "output_type": "stream",
     "text": [
      "the epoch 80/ 100: 100%|█████████████████████████████████████████████████████████████████| 1/1 [00:00<00:00,  9.03it/s]\n"
     ]
    },
    {
     "name": "stdout",
     "output_type": "stream",
     "text": [
      "Epoch 81, Loss: 0.4100\n"
     ]
    },
    {
     "name": "stderr",
     "output_type": "stream",
     "text": [
      "the epoch 81/ 100: 100%|█████████████████████████████████████████████████████████████████| 1/1 [00:00<00:00, 34.58it/s]\n"
     ]
    },
    {
     "name": "stdout",
     "output_type": "stream",
     "text": [
      "Epoch 82, Loss: 0.4015\n"
     ]
    },
    {
     "name": "stderr",
     "output_type": "stream",
     "text": [
      "the epoch 82/ 100: 100%|█████████████████████████████████████████████████████████████████| 1/1 [00:00<00:00, 45.58it/s]\n"
     ]
    },
    {
     "name": "stdout",
     "output_type": "stream",
     "text": [
      "Epoch 83, Loss: 0.3929\n"
     ]
    },
    {
     "name": "stderr",
     "output_type": "stream",
     "text": [
      "the epoch 83/ 100: 100%|█████████████████████████████████████████████████████████████████| 1/1 [00:00<00:00, 25.71it/s]\n"
     ]
    },
    {
     "name": "stdout",
     "output_type": "stream",
     "text": [
      "Epoch 84, Loss: 0.3842\n"
     ]
    },
    {
     "name": "stderr",
     "output_type": "stream",
     "text": [
      "the epoch 84/ 100: 100%|█████████████████████████████████████████████████████████████████| 1/1 [00:00<00:00, 26.39it/s]\n"
     ]
    },
    {
     "name": "stdout",
     "output_type": "stream",
     "text": [
      "Epoch 85, Loss: 0.3756\n"
     ]
    },
    {
     "name": "stderr",
     "output_type": "stream",
     "text": [
      "the epoch 85/ 100: 100%|█████████████████████████████████████████████████████████████████| 1/1 [00:00<00:00, 28.65it/s]\n"
     ]
    },
    {
     "name": "stdout",
     "output_type": "stream",
     "text": [
      "Epoch 86, Loss: 0.3672\n"
     ]
    },
    {
     "name": "stderr",
     "output_type": "stream",
     "text": [
      "the epoch 86/ 100: 100%|█████████████████████████████████████████████████████████████████| 1/1 [00:00<00:00, 24.46it/s]\n"
     ]
    },
    {
     "name": "stdout",
     "output_type": "stream",
     "text": [
      "Epoch 87, Loss: 0.3592\n"
     ]
    },
    {
     "name": "stderr",
     "output_type": "stream",
     "text": [
      "the epoch 87/ 100: 100%|█████████████████████████████████████████████████████████████████| 1/1 [00:00<00:00, 40.11it/s]\n"
     ]
    },
    {
     "name": "stdout",
     "output_type": "stream",
     "text": [
      "Epoch 88, Loss: 0.3517\n"
     ]
    },
    {
     "name": "stderr",
     "output_type": "stream",
     "text": [
      "the epoch 88/ 100: 100%|█████████████████████████████████████████████████████████████████| 1/1 [00:00<00:00, 40.11it/s]\n"
     ]
    },
    {
     "name": "stdout",
     "output_type": "stream",
     "text": [
      "Epoch 89, Loss: 0.3447\n"
     ]
    },
    {
     "name": "stderr",
     "output_type": "stream",
     "text": [
      "the epoch 89/ 100: 100%|█████████████████████████████████████████████████████████████████| 1/1 [00:00<00:00, 30.38it/s]\n"
     ]
    },
    {
     "name": "stdout",
     "output_type": "stream",
     "text": [
      "Epoch 90, Loss: 0.3382\n"
     ]
    },
    {
     "name": "stderr",
     "output_type": "stream",
     "text": [
      "the epoch 90/ 100: 100%|█████████████████████████████████████████████████████████████████| 1/1 [00:00<00:00, 31.33it/s]\n"
     ]
    },
    {
     "name": "stdout",
     "output_type": "stream",
     "text": [
      "Epoch 91, Loss: 0.3321\n"
     ]
    },
    {
     "name": "stderr",
     "output_type": "stream",
     "text": [
      "the epoch 91/ 100: 100%|█████████████████████████████████████████████████████████████████| 1/1 [00:00<00:00, 25.07it/s]\n"
     ]
    },
    {
     "name": "stdout",
     "output_type": "stream",
     "text": [
      "Epoch 92, Loss: 0.3263\n"
     ]
    },
    {
     "name": "stderr",
     "output_type": "stream",
     "text": [
      "the epoch 92/ 100: 100%|█████████████████████████████████████████████████████████████████| 1/1 [00:00<00:00, 25.07it/s]\n"
     ]
    },
    {
     "name": "stdout",
     "output_type": "stream",
     "text": [
      "Epoch 93, Loss: 0.3208\n"
     ]
    },
    {
     "name": "stderr",
     "output_type": "stream",
     "text": [
      "the epoch 93/ 100: 100%|█████████████████████████████████████████████████████████████████| 1/1 [00:00<00:00, 47.75it/s]\n"
     ]
    },
    {
     "name": "stdout",
     "output_type": "stream",
     "text": [
      "Epoch 94, Loss: 0.3154\n"
     ]
    },
    {
     "name": "stderr",
     "output_type": "stream",
     "text": [
      "the epoch 94/ 100: 100%|█████████████████████████████████████████████████████████████████| 1/1 [00:00<00:00, 47.75it/s]\n"
     ]
    },
    {
     "name": "stdout",
     "output_type": "stream",
     "text": [
      "Epoch 95, Loss: 0.3101\n"
     ]
    },
    {
     "name": "stderr",
     "output_type": "stream",
     "text": [
      "the epoch 95/ 100: 100%|█████████████████████████████████████████████████████████████████| 1/1 [00:00<00:00, 58.98it/s]\n"
     ]
    },
    {
     "name": "stdout",
     "output_type": "stream",
     "text": [
      "Epoch 96, Loss: 0.3047\n"
     ]
    },
    {
     "name": "stderr",
     "output_type": "stream",
     "text": [
      "the epoch 96/ 100: 100%|█████████████████████████████████████████████████████████████████| 1/1 [00:00<00:00, 62.66it/s]\n"
     ]
    },
    {
     "name": "stdout",
     "output_type": "stream",
     "text": [
      "Epoch 97, Loss: 0.2993\n"
     ]
    },
    {
     "name": "stderr",
     "output_type": "stream",
     "text": [
      "the epoch 97/ 100: 100%|█████████████████████████████████████████████████████████████████| 1/1 [00:00<00:00, 55.70it/s]\n"
     ]
    },
    {
     "name": "stdout",
     "output_type": "stream",
     "text": [
      "Epoch 98, Loss: 0.2939\n"
     ]
    },
    {
     "name": "stderr",
     "output_type": "stream",
     "text": [
      "the epoch 98/ 100: 100%|█████████████████████████████████████████████████████████████████| 1/1 [00:00<00:00, 52.78it/s]\n"
     ]
    },
    {
     "name": "stdout",
     "output_type": "stream",
     "text": [
      "Epoch 99, Loss: 0.2885\n"
     ]
    },
    {
     "name": "stderr",
     "output_type": "stream",
     "text": [
      "the epoch 99/ 100: 100%|█████████████████████████████████████████████████████████████████| 1/1 [00:00<00:00, 35.81it/s]"
     ]
    },
    {
     "name": "stdout",
     "output_type": "stream",
     "text": [
      "Epoch 100, Loss: 0.2830\n"
     ]
    },
    {
     "name": "stderr",
     "output_type": "stream",
     "text": [
      "\n"
     ]
    }
   ],
   "source": [
    "import torch.optim as optim\n",
    "from torch.nn import MSELoss\n",
    "from tqdm import tqdm\n",
    "\n",
    "# Initialiser le modèle\n",
    "vocab_size = len(vocab)\n",
    "embed_size = 100\n",
    "hidden_size = 64\n",
    "model_type = \"LSTM\"  # Changez pour RNN, BiRNN, GRU, ou LSTM\n",
    "\n",
    "model = SequenceModel(vocab_size, embed_size, hidden_size, model_type)\n",
    "criterion = MSELoss()\n",
    "optimizer = optim.Adam(model.parameters(), lr=0.001)\n",
    "\n",
    "# Boucle d'entraînement\n",
    "for epoch in range(100):\n",
    "    model.train()\n",
    "    total_loss = 0\n",
    "    for texts, scores in tqdm(dataloader, desc=f\"the epoch { epoch}/ 100\"):\n",
    "        optimizer.zero_grad()\n",
    "        outputs = model(texts)\n",
    "        loss = criterion(outputs.squeeze(), scores)\n",
    "        loss.backward()\n",
    "        optimizer.step()\n",
    "        total_loss += loss.item()\n",
    "    print(f\"Epoch {epoch + 1}, Loss: {total_loss / len(dataloader):.4f}\")\n"
   ]
  },
  {
   "cell_type": "code",
   "execution_count": 28,
   "id": "0e301805-5442-49d6-9502-ccb6ce472450",
   "metadata": {},
   "outputs": [
    {
     "name": "stdout",
     "output_type": "stream",
     "text": [
      "Mean Squared Error: 0.2774\n"
     ]
    }
   ],
   "source": [
    "from sklearn.metrics import mean_squared_error\n",
    "\n",
    "model.eval()\n",
    "predictions = []\n",
    "actuals = []\n",
    "with torch.no_grad():\n",
    "    for texts, scores in dataloader:\n",
    "        outputs = model(texts)\n",
    "        predictions.extend(outputs.squeeze().tolist())\n",
    "        actuals.extend(scores.tolist())\n",
    "\n",
    "mse = mean_squared_error(actuals, predictions)\n",
    "print(f\"Mean Squared Error: {mse:.4f}\")"
   ]
  },
  {
   "cell_type": "code",
   "execution_count": null,
   "id": "a522baa9-f23b-4687-bb2d-67e47d4a9c0e",
   "metadata": {},
   "outputs": [],
   "source": []
  }
 ],
 "metadata": {
  "kernelspec": {
   "display_name": "Python 3 (ipykernel)",
   "language": "python",
   "name": "python3"
  },
  "language_info": {
   "codemirror_mode": {
    "name": "ipython",
    "version": 3
   },
   "file_extension": ".py",
   "mimetype": "text/x-python",
   "name": "python",
   "nbconvert_exporter": "python",
   "pygments_lexer": "ipython3",
   "version": "3.9.0"
  }
 },
 "nbformat": 4,
 "nbformat_minor": 5
}
