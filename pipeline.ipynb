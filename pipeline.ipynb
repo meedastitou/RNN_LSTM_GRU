{
 "cells": [
  {
   "cell_type": "code",
   "execution_count": 1,
   "id": "d4da03c2-3e7b-42d2-a72a-9047584858db",
   "metadata": {},
   "outputs": [],
   "source": [
    "import pandas as pd"
   ]
  },
  {
   "cell_type": "code",
   "execution_count": 2,
   "id": "01231bfc-1a9f-455e-82bd-5b29a191e607",
   "metadata": {},
   "outputs": [],
   "source": [
    "data = pd.read_csv(\"datasets\\hespress-posts.csv\")"
   ]
  },
  {
   "cell_type": "code",
   "execution_count": 3,
   "id": "b95284bc-637d-4861-b79b-403a9900b601",
   "metadata": {},
   "outputs": [
    {
     "data": {
      "text/html": [
       "<div>\n",
       "<style scoped>\n",
       "    .dataframe tbody tr th:only-of-type {\n",
       "        vertical-align: middle;\n",
       "    }\n",
       "\n",
       "    .dataframe tbody tr th {\n",
       "        vertical-align: top;\n",
       "    }\n",
       "\n",
       "    .dataframe thead th {\n",
       "        text-align: right;\n",
       "    }\n",
       "</style>\n",
       "<table border=\"1\" class=\"dataframe\">\n",
       "  <thead>\n",
       "    <tr style=\"text-align: right;\">\n",
       "      <th></th>\n",
       "      <th>post_title</th>\n",
       "      <th>post_content</th>\n",
       "      <th>post_link</th>\n",
       "    </tr>\n",
       "  </thead>\n",
       "  <tbody>\n",
       "    <tr>\n",
       "      <th>0</th>\n",
       "      <td>ديباجة قانون الإضراب تثير الجدل .. والسكوري يت...</td>\n",
       "      <td>تسلح يونس السكوري، وزير الإدماج الاقتصادي والم...</td>\n",
       "      <td>https://www.hespress.com/%d8%af%d9%8a%d8%a8%d8...</td>\n",
       "    </tr>\n",
       "    <tr>\n",
       "      <th>1</th>\n",
       "      <td>\"الاعتداء\" على مسؤول روسي يعزز دعوات تقنين الن...</td>\n",
       "      <td>أعادت واقعة “الاعتداء” الذي طال مسؤولا روسيا ف...</td>\n",
       "      <td>https://www.hespress.com/%d8%a7%d9%84%d8%a7%d8...</td>\n",
       "    </tr>\n",
       "    <tr>\n",
       "      <th>2</th>\n",
       "      <td>صناع \"كحول الفقراء\" يثيرون القلق على مقربة من ...</td>\n",
       "      <td>على بعد أسابيع من احتفالات رأس السنة تتجدد الم...</td>\n",
       "      <td>https://www.hespress.com/%d8%b5%d9%86%d8%a7%d8...</td>\n",
       "    </tr>\n",
       "    <tr>\n",
       "      <th>3</th>\n",
       "      <td>الرباط تفاوض الرياض بشأن سجينات</td>\n",
       "      <td>كشف وزير العدل، عبد اللطيف وهبي، وجود محاولات ...</td>\n",
       "      <td>https://www.hespress.com/%d8%a7%d9%84%d8%b1%d8...</td>\n",
       "    </tr>\n",
       "    <tr>\n",
       "      <th>4</th>\n",
       "      <td>عالم القراءات محمد بلوالي في ذمة الله</td>\n",
       "      <td>نعت “مؤسسة دار الحديث الحسنية” التابعة لجامعة ...</td>\n",
       "      <td>https://www.hespress.com/%d8%b9%d8%a7%d9%84%d9...</td>\n",
       "    </tr>\n",
       "  </tbody>\n",
       "</table>\n",
       "</div>"
      ],
      "text/plain": [
       "                                          post_title  \\\n",
       "0  ديباجة قانون الإضراب تثير الجدل .. والسكوري يت...   \n",
       "1  \"الاعتداء\" على مسؤول روسي يعزز دعوات تقنين الن...   \n",
       "2  صناع \"كحول الفقراء\" يثيرون القلق على مقربة من ...   \n",
       "3                    الرباط تفاوض الرياض بشأن سجينات   \n",
       "4              عالم القراءات محمد بلوالي في ذمة الله   \n",
       "\n",
       "                                        post_content  \\\n",
       "0  تسلح يونس السكوري، وزير الإدماج الاقتصادي والم...   \n",
       "1  أعادت واقعة “الاعتداء” الذي طال مسؤولا روسيا ف...   \n",
       "2  على بعد أسابيع من احتفالات رأس السنة تتجدد الم...   \n",
       "3  كشف وزير العدل، عبد اللطيف وهبي، وجود محاولات ...   \n",
       "4  نعت “مؤسسة دار الحديث الحسنية” التابعة لجامعة ...   \n",
       "\n",
       "                                           post_link  \n",
       "0  https://www.hespress.com/%d8%af%d9%8a%d8%a8%d8...  \n",
       "1  https://www.hespress.com/%d8%a7%d9%84%d8%a7%d8...  \n",
       "2  https://www.hespress.com/%d8%b5%d9%86%d8%a7%d8...  \n",
       "3  https://www.hespress.com/%d8%a7%d9%84%d8%b1%d8...  \n",
       "4  https://www.hespress.com/%d8%b9%d8%a7%d9%84%d9...  "
      ]
     },
     "execution_count": 3,
     "metadata": {},
     "output_type": "execute_result"
    }
   ],
   "source": [
    "data.head()"
   ]
  },
  {
   "cell_type": "code",
   "execution_count": 4,
   "id": "51165143-0dce-4f82-9e71-264f0e89f864",
   "metadata": {},
   "outputs": [],
   "source": [
    "from sklearn.preprocessing import MinMaxScaler"
   ]
  },
  {
   "cell_type": "code",
   "execution_count": 5,
   "id": "91e28af2-b190-4de0-806b-a74fab4206ec",
   "metadata": {},
   "outputs": [
    {
     "name": "stdout",
     "output_type": "stream",
     "text": [
      "Index(['post_title', 'post_content', 'post_link'], dtype='object')\n"
     ]
    }
   ],
   "source": [
    "print(data.columns)"
   ]
  },
  {
   "cell_type": "code",
   "execution_count": null,
   "id": "f3442fa7-8fea-464a-b41d-36a639ca66ab",
   "metadata": {},
   "outputs": [],
   "source": []
  },
  {
   "cell_type": "code",
   "execution_count": 6,
   "id": "04b0a0db-822c-4213-9fbe-46a1116a0375",
   "metadata": {},
   "outputs": [],
   "source": [
    "# Calculer la longueur des textes\n",
    "data['text_length'] = data['post_content'].apply(len)\n"
   ]
  },
  {
   "cell_type": "code",
   "execution_count": 7,
   "id": "2f256092-39c2-4b8b-8361-bd38b5e035e4",
   "metadata": {},
   "outputs": [
    {
     "data": {
      "text/html": [
       "<div>\n",
       "<style scoped>\n",
       "    .dataframe tbody tr th:only-of-type {\n",
       "        vertical-align: middle;\n",
       "    }\n",
       "\n",
       "    .dataframe tbody tr th {\n",
       "        vertical-align: top;\n",
       "    }\n",
       "\n",
       "    .dataframe thead th {\n",
       "        text-align: right;\n",
       "    }\n",
       "</style>\n",
       "<table border=\"1\" class=\"dataframe\">\n",
       "  <thead>\n",
       "    <tr style=\"text-align: right;\">\n",
       "      <th></th>\n",
       "      <th>post_title</th>\n",
       "      <th>post_content</th>\n",
       "      <th>post_link</th>\n",
       "      <th>text_length</th>\n",
       "    </tr>\n",
       "  </thead>\n",
       "  <tbody>\n",
       "    <tr>\n",
       "      <th>0</th>\n",
       "      <td>ديباجة قانون الإضراب تثير الجدل .. والسكوري يت...</td>\n",
       "      <td>تسلح يونس السكوري، وزير الإدماج الاقتصادي والم...</td>\n",
       "      <td>https://www.hespress.com/%d8%af%d9%8a%d8%a8%d8...</td>\n",
       "      <td>2335</td>\n",
       "    </tr>\n",
       "    <tr>\n",
       "      <th>1</th>\n",
       "      <td>\"الاعتداء\" على مسؤول روسي يعزز دعوات تقنين الن...</td>\n",
       "      <td>أعادت واقعة “الاعتداء” الذي طال مسؤولا روسيا ف...</td>\n",
       "      <td>https://www.hespress.com/%d8%a7%d9%84%d8%a7%d8...</td>\n",
       "      <td>2420</td>\n",
       "    </tr>\n",
       "    <tr>\n",
       "      <th>2</th>\n",
       "      <td>صناع \"كحول الفقراء\" يثيرون القلق على مقربة من ...</td>\n",
       "      <td>على بعد أسابيع من احتفالات رأس السنة تتجدد الم...</td>\n",
       "      <td>https://www.hespress.com/%d8%b5%d9%86%d8%a7%d8...</td>\n",
       "      <td>4040</td>\n",
       "    </tr>\n",
       "    <tr>\n",
       "      <th>3</th>\n",
       "      <td>الرباط تفاوض الرياض بشأن سجينات</td>\n",
       "      <td>كشف وزير العدل، عبد اللطيف وهبي، وجود محاولات ...</td>\n",
       "      <td>https://www.hespress.com/%d8%a7%d9%84%d8%b1%d8...</td>\n",
       "      <td>1302</td>\n",
       "    </tr>\n",
       "    <tr>\n",
       "      <th>4</th>\n",
       "      <td>عالم القراءات محمد بلوالي في ذمة الله</td>\n",
       "      <td>نعت “مؤسسة دار الحديث الحسنية” التابعة لجامعة ...</td>\n",
       "      <td>https://www.hespress.com/%d8%b9%d8%a7%d9%84%d9...</td>\n",
       "      <td>1299</td>\n",
       "    </tr>\n",
       "  </tbody>\n",
       "</table>\n",
       "</div>"
      ],
      "text/plain": [
       "                                          post_title  \\\n",
       "0  ديباجة قانون الإضراب تثير الجدل .. والسكوري يت...   \n",
       "1  \"الاعتداء\" على مسؤول روسي يعزز دعوات تقنين الن...   \n",
       "2  صناع \"كحول الفقراء\" يثيرون القلق على مقربة من ...   \n",
       "3                    الرباط تفاوض الرياض بشأن سجينات   \n",
       "4              عالم القراءات محمد بلوالي في ذمة الله   \n",
       "\n",
       "                                        post_content  \\\n",
       "0  تسلح يونس السكوري، وزير الإدماج الاقتصادي والم...   \n",
       "1  أعادت واقعة “الاعتداء” الذي طال مسؤولا روسيا ف...   \n",
       "2  على بعد أسابيع من احتفالات رأس السنة تتجدد الم...   \n",
       "3  كشف وزير العدل، عبد اللطيف وهبي، وجود محاولات ...   \n",
       "4  نعت “مؤسسة دار الحديث الحسنية” التابعة لجامعة ...   \n",
       "\n",
       "                                           post_link  text_length  \n",
       "0  https://www.hespress.com/%d8%af%d9%8a%d8%a8%d8...         2335  \n",
       "1  https://www.hespress.com/%d8%a7%d9%84%d8%a7%d8...         2420  \n",
       "2  https://www.hespress.com/%d8%b5%d9%86%d8%a7%d8...         4040  \n",
       "3  https://www.hespress.com/%d8%a7%d9%84%d8%b1%d8...         1302  \n",
       "4  https://www.hespress.com/%d8%b9%d8%a7%d9%84%d9...         1299  "
      ]
     },
     "execution_count": 7,
     "metadata": {},
     "output_type": "execute_result"
    }
   ],
   "source": [
    "data.head()"
   ]
  },
  {
   "cell_type": "code",
   "execution_count": 8,
   "id": "66c7957b-970b-4c3e-91bc-30a88edef7bc",
   "metadata": {},
   "outputs": [],
   "source": [
    "# Normaliser la longueur des textes entre 0 et 10\n",
    "scaler = MinMaxScaler(feature_range=(0, 10))\n",
    "data['note'] = scaler.fit_transform(data[['text_length']])"
   ]
  },
  {
   "cell_type": "code",
   "execution_count": 9,
   "id": "2d04b3d7-dbd5-46ab-93d2-f929655ec5db",
   "metadata": {},
   "outputs": [
    {
     "name": "stdout",
     "output_type": "stream",
     "text": [
      "                                         post_content       note\n",
      "0   تسلح يونس السكوري، وزير الإدماج الاقتصادي والم...   3.392897\n",
      "1   أعادت واقعة “الاعتداء” الذي طال مسؤولا روسيا ف...   3.580410\n",
      "2   على بعد أسابيع من احتفالات رأس السنة تتجدد الم...   7.154203\n",
      "3   كشف وزير العدل، عبد اللطيف وهبي، وجود محاولات ...   1.114053\n",
      "4   نعت “مؤسسة دار الحديث الحسنية” التابعة لجامعة ...   1.107434\n",
      "5   بعبارات “الأسف والحسرة” علّقت فئات مهنية مغربي...   6.690933\n",
      "6   بدأت “جبهة الدفاع عن ممارسة حق الإضراب”، التي ...   3.646592\n",
      "7   رغم مرور شهرين على انتهاء الإحصاء العام للسكان...   0.000000\n",
      "8   رغم تأكيدها على أهمية الإجراءات التي اتخذها ال...  10.000000\n",
      "9   قالت المندوبية العامة لإدارة السجون وإعادة الإ...   0.619899\n",
      "10  أعلنت وزارة الأوقاف والشؤون الإسلامية أن فاتح ...   0.430179\n",
      "11  رسميا مع بداية هذا الأسبوع، يُباشر لحسن الغدير...   7.365983\n"
     ]
    }
   ],
   "source": [
    "# Résultat\n",
    "print(data[['post_content','note']])\n"
   ]
  },
  {
   "cell_type": "code",
   "execution_count": 10,
   "id": "bb351603-5dab-4db1-b172-578140e75a88",
   "metadata": {},
   "outputs": [
    {
     "name": "stdout",
     "output_type": "stream",
     "text": [
      "0      3.392897\n",
      "1      3.580410\n",
      "2      7.154203\n",
      "3      1.114053\n",
      "4      1.107434\n",
      "5      6.690933\n",
      "6      3.646592\n",
      "7      0.000000\n",
      "8     10.000000\n",
      "9      0.619899\n",
      "10     0.430179\n",
      "11     7.365983\n",
      "Name: note, dtype: float64\n"
     ]
    }
   ],
   "source": [
    "print(data['note'])"
   ]
  },
  {
   "cell_type": "code",
   "execution_count": 11,
   "id": "b7708886-ba9a-4a65-b05e-e663fcba88b5",
   "metadata": {},
   "outputs": [],
   "source": [
    "new_data = data[['post_content', 'note']]"
   ]
  },
  {
   "cell_type": "code",
   "execution_count": 12,
   "id": "88c95c4d-3504-43fd-beaa-9fbd2e5764a0",
   "metadata": {},
   "outputs": [],
   "source": [
    "# Sauvegarder le fichier avec les scores\n",
    "new_data.to_csv(\"datasets\\hespress_scored.csv\", index=False)"
   ]
  },
  {
   "cell_type": "code",
   "execution_count": 13,
   "id": "87d1af29-1f78-4a05-b1ed-cd64d1c6ed25",
   "metadata": {},
   "outputs": [
    {
     "data": {
      "text/plain": [
       "'تسلح يونس السكوري، وزير الإدماج الاقتصادي والمقاولة الصغرى والتشغيل والكفاءات، بقرارين سابقين للمحكمة الدستورية ليرفض تضمين مشروع القانون للتنظيمي رقم 97.15 بتحديد شروط وكيفيات ممارسة حق الإضراب “الديباجة” التي طالبت بها بعض الفرق البرلمانية ضمن التعديلات لوضعها كمادة أولى وتصدير. وقال الوزير، خلال اجتماع لجنة القطاعات الاجتماعية من أجل التصويت على التعديلات، اليوم الثلاثاء، إن القوانين التنظيمية مستمدة مباشرة من الدستور، وسيصعب على المحكمة الدستورية أن تتأكد من مدى دستورية مضامين النص التشريعي”. وزاد: “هذا هو السبب، أي حتى لا نجازف مع المحكمة الدستورية التي يمكن أن ترفضه. من حيث الشكل لن تكون ديباجة، ولكن من ناحية المضمون سنفرد مادة للموضوع”. وتابع الوزير مخاطبا النواب: “من ناحية المضمون نقبل التصور، ولكن ليس من حيث الشكل لا”، موضحاً أنه سيتمّ تجميع المقترحات المقدمة في صيغة مادة أولى تكون بمثابة تصدير، على ألاّ توصف بكونها ديباجة”، وهو الطرح الذي سانده فيه أحمد التويزي، رئيس فريق الأصالة والمعاصرة بمجلس النواب، خلال اجتماع اللجنة سالفة الذكر.     وبعد حدوث جدال كبير داخل اللجنة حول الصيغة الجديدة التي تقترحها الحكومة وعلى ماذا سيكون التصويت بما أن الحكومة أعلنت رفض الديباجة شكلاً في القانون، تدخل الوزير ليواصل المقترح الجديد التي ستكون عليه المادة، وجاء فيه وتلاه شفهيا كالتالي: “حق الإضراب مضمون ويمارس وفق أحكام هذا القانون التنظيمي. ـ يعد باطلا كل تنازل عنه. ـ يحدد هذا القانون التنظيمي ضمانات تتعلق: × بممارسة حق الإضراب في القطاعين العام والخاص باعتباره حقا دستوريا ومن حقوق الإنسان الأساسية من أجل تحقيق العدالة الاجتماعية والسلم الاجتماعي وضمان التعاقد الاجتماعي. × بتعزيز وتوسيع مجال الحريات عبر ممارسة هذا الحق استنادا إلى الدستور وانسجاما مع المواثيق والمرجعيات الدولية ذات الصلة وتثمينا للرصيد التاريخي للممارسة الوطنية لهذا الحق. × بالتوازن في صون حقوق المضربين وتكريس حرية العمل في ارتباط مع ممارسة حق الإضراب وطنيا وجهوياً ومحليّا”. وبعد الوصول إلى التوافق بخصوص هذه الصيغة وسحب مختلف الفرق تعديلاتها بما فيها المعارضة، ثمّن محمد شوكي، رئيس فريق التجمع الوطني للأحرار، “صيغة الحكومة التي تقدمت بها أيضاً الأغلبية”، ليردّ عليه فوراً مصطفى الابراهيمي، عضو المجموعة النيابية للعدالة والتنمية، معتبرا أن “هذه الصيغة تعود للجنة باعتبار المعارضة قبلت بصيغة توافقية مشتركة”، وزاد: “لا نحتاج خطابا من قبيل نثمّن ما قامت به الحكومة”. وتم الوصول إلى صيغة نهائية مرضية لجميع الفرق أغلبية ومعارضة؛ بمن فيهم الأعضاء غير المنتسبين مثل نبيلة منيب وفاطمة التامني، بعد أن استغرق النقاش نحو ساعتين في المادة الأولى فقط.'"
      ]
     },
     "execution_count": 13,
     "metadata": {},
     "output_type": "execute_result"
    }
   ],
   "source": [
    "new_data['post_content'][0]"
   ]
  },
  {
   "cell_type": "code",
   "execution_count": 14,
   "id": "fdf86aaa-e6bf-4a9b-b61c-2f054ab1168f",
   "metadata": {},
   "outputs": [],
   "source": [
    "# Import libraries for Establishment of NLP Pipeline \n",
    "import re\n",
    "import nltk\n",
    "\n",
    "from nltk.tokenize import word_tokenize\n",
    "from nltk.corpus import stopwords\n",
    "import arabic_reshaper # for text normalization\n",
    "from nltk.stem import SnowballStemmer\n"
   ]
  },
  {
   "cell_type": "markdown",
   "id": "0441008c-d680-49cb-913e-b00aad8898d9",
   "metadata": {},
   "source": [
    "## test les outils de pipeline "
   ]
  },
  {
   "cell_type": "code",
   "execution_count": 20,
   "id": "28ae9e5f-fed2-4047-be1d-0dc0c2bc0569",
   "metadata": {},
   "outputs": [
    {
     "ename": "TypeError",
     "evalue": "expected string or bytes-like object",
     "output_type": "error",
     "traceback": [
      "\u001b[1;31m---------------------------------------------------------------------------\u001b[0m",
      "\u001b[1;31mTypeError\u001b[0m                                 Traceback (most recent call last)",
      "Cell \u001b[1;32mIn[20], line 1\u001b[0m\n\u001b[1;32m----> 1\u001b[0m cleaned_text \u001b[38;5;241m=\u001b[39m \u001b[43mre\u001b[49m\u001b[38;5;241;43m.\u001b[39;49m\u001b[43msub\u001b[49m\u001b[43m(\u001b[49m\u001b[38;5;124;43m'\u001b[39;49m\u001b[38;5;124;43m<[^<]+?>\u001b[39;49m\u001b[38;5;124;43m'\u001b[39;49m\u001b[43m,\u001b[49m\u001b[43m \u001b[49m\u001b[38;5;124;43m'\u001b[39;49m\u001b[38;5;124;43m'\u001b[39;49m\u001b[43m,\u001b[49m\u001b[43m \u001b[49m\u001b[43mnew_data\u001b[49m\u001b[43m[\u001b[49m\u001b[38;5;124;43m\"\u001b[39;49m\u001b[38;5;124;43mpost_content\u001b[39;49m\u001b[38;5;124;43m\"\u001b[39;49m\u001b[43m]\u001b[49m\u001b[43m)\u001b[49m\n\u001b[0;32m      2\u001b[0m \u001b[38;5;66;03m# Remove non-Arabic characters, digits, and punctuation\u001b[39;00m\n\u001b[0;32m      3\u001b[0m cleaned_text \u001b[38;5;241m=\u001b[39m re\u001b[38;5;241m.\u001b[39msub(\u001b[38;5;124mr\u001b[39m\u001b[38;5;124m'\u001b[39m\u001b[38;5;124m[^\u001b[39m\u001b[38;5;124m\\\u001b[39m\u001b[38;5;124mu0600-\u001b[39m\u001b[38;5;124m\\\u001b[39m\u001b[38;5;124mu06FF\u001b[39m\u001b[38;5;124m\\\u001b[39m\u001b[38;5;124ms]\u001b[39m\u001b[38;5;124m'\u001b[39m, \u001b[38;5;124m'\u001b[39m\u001b[38;5;124m'\u001b[39m, cleaned_text)\n",
      "File \u001b[1;32mc:\\users\\hp\\appdata\\local\\programs\\python\\python39\\lib\\re.py:210\u001b[0m, in \u001b[0;36msub\u001b[1;34m(pattern, repl, string, count, flags)\u001b[0m\n\u001b[0;32m    203\u001b[0m \u001b[38;5;28;01mdef\u001b[39;00m \u001b[38;5;21msub\u001b[39m(pattern, repl, string, count\u001b[38;5;241m=\u001b[39m\u001b[38;5;241m0\u001b[39m, flags\u001b[38;5;241m=\u001b[39m\u001b[38;5;241m0\u001b[39m):\n\u001b[0;32m    204\u001b[0m \u001b[38;5;250m    \u001b[39m\u001b[38;5;124;03m\"\"\"Return the string obtained by replacing the leftmost\u001b[39;00m\n\u001b[0;32m    205\u001b[0m \u001b[38;5;124;03m    non-overlapping occurrences of the pattern in string by the\u001b[39;00m\n\u001b[0;32m    206\u001b[0m \u001b[38;5;124;03m    replacement repl.  repl can be either a string or a callable;\u001b[39;00m\n\u001b[0;32m    207\u001b[0m \u001b[38;5;124;03m    if a string, backslash escapes in it are processed.  If it is\u001b[39;00m\n\u001b[0;32m    208\u001b[0m \u001b[38;5;124;03m    a callable, it's passed the Match object and must return\u001b[39;00m\n\u001b[0;32m    209\u001b[0m \u001b[38;5;124;03m    a replacement string to be used.\"\"\"\u001b[39;00m\n\u001b[1;32m--> 210\u001b[0m     \u001b[38;5;28;01mreturn\u001b[39;00m \u001b[43m_compile\u001b[49m\u001b[43m(\u001b[49m\u001b[43mpattern\u001b[49m\u001b[43m,\u001b[49m\u001b[43m \u001b[49m\u001b[43mflags\u001b[49m\u001b[43m)\u001b[49m\u001b[38;5;241;43m.\u001b[39;49m\u001b[43msub\u001b[49m\u001b[43m(\u001b[49m\u001b[43mrepl\u001b[49m\u001b[43m,\u001b[49m\u001b[43m \u001b[49m\u001b[43mstring\u001b[49m\u001b[43m,\u001b[49m\u001b[43m \u001b[49m\u001b[43mcount\u001b[49m\u001b[43m)\u001b[49m\n",
      "\u001b[1;31mTypeError\u001b[0m: expected string or bytes-like object"
     ]
    }
   ],
   "source": [
    " \n",
    "    cleaned_text = re.sub('<[^<]+?>', '', new_data[\"post_content\"])\n",
    "    # Remove non-Arabic characters, digits, and punctuation\n",
    "    cleaned_text = re.sub(r'[^\\u0600-\\u06FF\\s]', '', cleaned_text)\n",
    "    # Remove extra spaces\n",
    "    cleaned_text = re.sub(r'\\s+', ' ', cleaned_text)\n",
    "    print(cleaned_text)"
   ]
  },
  {
   "cell_type": "code",
   "execution_count": null,
   "id": "1b6aa8d1-6fe1-4663-9428-6c26897a2905",
   "metadata": {},
   "outputs": [],
   "source": [
    "# Télécharger les ressources NLTK si nécessaire\n",
    "nltk.download('stopwords')\n",
    "nltk.download('punkt')\n",
    "nltk.download('punkt_tab')\n"
   ]
  },
  {
   "cell_type": "code",
   "execution_count": null,
   "id": "90fa3b73-def4-43df-b49d-8d791da103d5",
   "metadata": {},
   "outputs": [],
   "source": [
    "tokens = word_tokenize(cleaned_text)"
   ]
  },
  {
   "cell_type": "code",
   "execution_count": 16,
   "id": "6275d167-f19e-43f4-9d3c-82c585d52cf0",
   "metadata": {},
   "outputs": [
    {
     "ename": "NameError",
     "evalue": "name 'tokens' is not defined",
     "output_type": "error",
     "traceback": [
      "\u001b[1;31m---------------------------------------------------------------------------\u001b[0m",
      "\u001b[1;31mNameError\u001b[0m                                 Traceback (most recent call last)",
      "Cell \u001b[1;32mIn[16], line 1\u001b[0m\n\u001b[1;32m----> 1\u001b[0m \u001b[38;5;28mprint\u001b[39m(\u001b[43mtokens\u001b[49m)\n",
      "\u001b[1;31mNameError\u001b[0m: name 'tokens' is not defined"
     ]
    }
   ],
   "source": [
    "print(tokens)"
   ]
  },
  {
   "cell_type": "code",
   "execution_count": 17,
   "id": "0d345b18-f977-4693-a36e-ba04a28a7a9c",
   "metadata": {},
   "outputs": [
    {
     "name": "stdout",
     "output_type": "stream",
     "text": [
      "Arabic stop-words :  {'سوف', 'أحد', 'يورو', 'يفعلان', 'فبراير', 'تاسع', 'ألفى', 'صبر', 'هاتان', 'إذ', 'تلك', 'تي', 'تلكم', 'ماذا', 'ولو', 'لعمر', 'آهِ', 'هاتين', 'أهلا', 'ح', 'واهاً', 'زود', 'عسى', 'ليسوا', 'عما', 'يناير', 'ضاد', 'إلا', 'علق', 'سبعمائة', 'الألاء', 'كلتا', 'أربعاء', 'هَاتانِ', 'سقى', 'ءَ', 'منها', 'ذلك', 'اثنين', 'تفعلون', 'أغسطس', 'وإذا', 'صراحة', 'أخو', 'صهٍ', 'تلكما', 'ثمانون', 'ذلكما', 'أبو', 'إذن', 'تبدّل', 'يوان', 'جويلية', 'أوت', 'هَاتَيْنِ', 'لو', 'مكانَك', 'قبل', 'فمن', 'الذي', 'عدا', 'مايو', 'أجل', 'أنّى', 'فضلا', 'تانِ', 'كاد', 'كيف', 'كليكما', 'هذان', 'أنى', 'هل', 'كاف', 'أمامكَ', 'تين', 'لستما', 'ثلاثة', 'كن', 'لا', 'تجاه', 'هَذَيْنِ', 'تسعمئة', 'لوما', 'والذين', 'تلقاء', 'يمين', 'اثنا', 'أيار', 'اربعين', 'هاهنا', 'لكنما', 'جيم', 'ّأيّان', 'أنتم', 'ثلاثاء', 'غين', 'لكنَّ', 'ذانك', 'هو', 'كلا', 'معاذ', 'أول', 'بَلْهَ', 'هيهات', 'خاء', 'تارة', 'ليرة', 'كيت', 'أمسى', 'سرعان', 'وجد', 'هذا', 'كلَّا', 'لكن', 'إياكما', 'بنا', 'هن', 'سبعة', 'دونك', 'خامس', 'ممن', 'ظلّ', 'عامة', 'سوى', 'ث', 'نا', 'فلان', 'بؤسا', 'الألى', 'ضحوة', 'حتى', 'مه', 'ي', 'أضحى', 'تحوّل', 'وما', 'ارتدّ', 'متى', 'بهما', 'لام', 'عوض', 'ريال', 'جير', 'آهٍ', 'ذال', 'قرش', 'إليكنّ', 'تانِك', 'اربعون', 'على', 'صباح', 'لكيلا', 'بها', 'رأى', 'إحدى', 'إذاً', 'نحو', 'هبّ', 'خمسين', 'ثمانمئة', 'دون', 'أيضا', 'هاكَ', 'لنا', 'هَؤلاء', 'نفس', 'أكتوبر', 'إيه', 'جانفي', 'غدا', 'شمال', 'غير', 'سابع', 'هاته', 'ها', 'كليهما', 'رابع', 'لن', 'نبَّا', 'أنًّ', 'أربعة', 'حمدا', 'ثاء', 'ليت', 'خاصة', 'اخلولق', 'قلما', 'مكانكم', 'ثمّ', 'اللتيا', 'ع', 'حيَّ', 'مازال', 'هللة', 'هاء', 'حبذا', 'آ', 'انبرى', 'إليكما', 'يونيو', 'عيانا', 'ليستا', 'ستمئة', 'اللتان', 'لدن', 'ثامن', 'إنه', 'ثمّة', 'أين', 'كما', 'ب', 'أنبأ', 'مادام', 'حمٌ', 'خلف', 'خال', 'بي', 'هَذانِ', 'إياها', 'كذا', 'أعطى', 'إيهٍ', 'كذلك', 'بكن', 'ثم', 'تفعلين', 'لسن', 'كانون', 'آمينَ', 'حقا', 'تِي', 'إلّا', 'لهما', 'تسعون', 'له', 'يفعلون', 'ثلاثين', 'اللذين', 'أيا', 'خلا', 'من', 'لسنا', 'لك', 'كثيرا', 'حار', 'أمّا', 'فيفري', 'كم', 'غداة', 'حبيب', 'ذانِ', 'حيثما', 'بماذا', 'بلى', 'ستين', 'سين', 'طاء', 'قاطبة', 'نوفمبر', 'ثمان', 'عين', 'هذه', 'دال', 'إلَيْكَ', 'س', 'سبعين', 'بكم', 'بما', 'تسع', 'عشرين', 'طَق', 'ألا', 'راح', 'تسعمائة', 'أو', 'همزة', 'بعد', 'تينك', 'منذ', 'هنا', 'وهو', 'إياه', 'إليك', 'تشرين', 'إزاء', 'ماي', 'ة', 'حاء', 'ذوا', 'نعم', 'سبع', 'إياهن', 'سمعا', 'فو', 'ؤ', 'باء', 'صهْ', 'تعسا', 'ساء', 'ذي', 'إنما', 'سرا', 'عَدَسْ', 'لهم', 'أولالك', 'بات', 'تسعة', 'مارس', 'اللواتي', 'إنَّ', 'تِه', 'ما برح', 'ياء', 'هلا', 'هؤلاء', 'ذلكم', 'شين', 'يوليو', 'فيه', 'ثماني', 'نيف', 'إي', 'هاتي', 'حاي', 'هي', 'حدَث', 'أصلا', 'عشر', 'لستم', 'ص', 'شبه', 'لا سيما', 'جعل', 'ثمانين', 'ذلكن', 'ومن', 'اثني', 'اتخذ', 'آهاً', 'لست', 'لعل', 'كسا', 'ثلاثمائة', 'ئ', 'هذي', 'في', 'أنتما', 'أينما', 'سبت', 'أخبر', 'إليكَ', 'وإن', 'هَذِي', 'ذواتي', 'أوه', 'ذه', 'عل', 'هيا', 'بضع', 'أمامك', 'بهم', 'ثلاثون', 'ستون', 'أخٌ', 'أم', 'ثمنمئة', 'لمّا', 'خمسون', 'نون', 'مع', 'ذيت', 'إليكم', 'صاد', 'مرّة', 'هكذا', 'لئن', 'أما', 'آذار', 'أى', 'بيد', 'بعض', 'اللائي', 'أنشأ', 'دولار', 'مساء', 'هم', 'غادر', 'إذما', 'أيلول', 'ه', 'علًّ', 'أولئك', 'ثمة', 'جميع', 'أوّهْ', 'فلا', 'أبريل', 'صدقا', 'بسّ', 'لات', 'خميس', 'بئس', 'ذَيْنِ', 'هَذا', 'ريث', 'ذِي', 'درهم', 'لكم', 'خمسة', 'إنا', 'حسب', 'غ', 'كى', 'رجع', 'عاشر', 'لي', 'أبدا', 'فيم', 'حاشا', 'جلل', 'جمعة', 'حَذارِ', 'عليك', 'حيث', 'لم', 'كلما', 'لستن', 'وإذ', 'إياي', 'خمسمئة', 'طفق', 'شتانَ', 'ى', 'رويدك', 'شتان', 'راء', 'بهن', 'اللتين', 'ر', 'فرادى', 'إمّا', 'وَيْ', 'كلّما', 'آي', 'كرب', 'لولا', 'حرى', 'صار', 'كأين', 'كل', 'عليه', 'بخٍ', 'ين', 'ذات', 'طاق', 'دواليك', 'آض', 'زعم', 'أبٌ', 'مائة', 'عدَّ', 'أسكن', 'خمسمائة', 'أولاء', 'كأي', 'بين', 'غالبا', 'هيّا', 'لعلَّ', 'آب', 'ذين', 'إيانا', 'رُبَّ', 'أعلم', 'أيّان', 'ثمَّ', 'إياهما', 'كي', 'عن', 'أفٍّ', 'بطآن', 'آناء', 'أربع', 'بكما', 'حادي', 'هَيْهات', 'ما أفعله', 'آه', 'إى', 'إلى', 'إياكن', 'حين', 'قطّ', 'ن', 'حجا', 'كأنما', 'إياكم', 'كأنّ', 'علم', 'ثمانية', 'أنا', 'تَيْنِ', 'ستمائة', 'هناك', 'شرع', 'هَاتِي', 'سبعون', 'أطعم', 'و', 'عشرة', 'إن', 'منه', 'ليس', 'هيت', 'ولكن', 'ستة', 'ظنَّ', 'بغتة', 'بخ', 'به', 'شباط', 'تعلَّم', 'سنتيم', 'عاد', 'بَسْ', 'لكما', 'مما', 'عند', 'فإذا', 'سحقا', 'ليست', 'اللاتي', 'نحن', 'أقل', 'هنالك', 'أُفٍّ', 'شَتَّانَ', 'سادس', 'مثل', 'آنفا', 'لاسيما', 'تحت', 'أوشك', 'مافتئ', 'ذواتا', 'ديسمبر', 'والذي', 'زاي', 'أي', 'جنيه', 'خمس', 'تاء', 'هلم', 'أقبل', 'إياك', 'هذين', 'وُشْكَانَ', 'ت', 'الذين', 'هلّا', 'سبتمبر', 'خلافا', 'أجمع', 'ميم', 'أن', 'أربعمئة', 'ذ', 'أرى', 'الآن', 'أخذ', 'أف', 'ذان', 'وراءَك', 'ست', 'خبَّر', 'أ', 'أفعل به', 'أكثر', 'أنت', 'ثاني', 'لهن', 'ط', 'بعدا', 'أصبح', 'نيسان', 'آها', 'أيها', 'ذهب', 'أيّ', 'ء', 'مكانكنّ', 'ثلاث', 'نَخْ', 'قام', 'إما', 'ظ', 'صبرا', 'ذا', 'بل', 'إذا', 'ولا', 'ش', 'إياهم', 'حمو', 'م', 'بك', 'فإن', 'أمس', 'سبحان', 'لها', 'تموز', 'لدى', 'كِخ', 'نَّ', 'هَاتِه', 'لكي', 'أمد', 'واحد', 'أمام', 'ج', 'رزق', 'ته', 'أل', 'ثان', 'كأيّ', 'ذاك', 'خ', 'شيكل', 'أربعمائة', 'فيها', 'أنتِ', 'ابتدأ', 'يا', 'ذِه', 'تسعين', 'فوق', 'انقلب', 'ا', 'فاء', 'هَذِه', 'مذ', 'ض', 'اثنان', 'كأيّن', 'ذينك', 'ما', 'د', 'ثالث', 'طالما', 'تخذ', 'وا', 'كيفما', 'ز', 'ك', 'فلس', 'هَجْ', 'عشرون', 'ذو', 'مئتان', 'استحال', 'سبعمئة', 'ف', 'دينار', 'مئة', 'قد', 'لما', 'لبيك', 'ظاء', 'ثلاثمئة', 'حزيران', 'ل', 'بمن', 'ليسا', 'جوان', 'إليكن', 'طرا', 'درى', 'عجبا', 'تفعلان', 'كان', 'ما انفك', 'كأن', 'كلاهما', 'هاك', 'مهما', 'أفريل', 'ترك', 'ق', 'هما', 'بس', 'وهب', 'اللذان', 'ألف', 'مكانكما', 'قاف', 'واو', 'أنتن', 'التي', 'فيما', 'ورد', 'مليم'}\n"
     ]
    }
   ],
   "source": [
    "print(\"Arabic stop-words : \", set(stopwords.words('arabic')))"
   ]
  },
  {
   "cell_type": "code",
   "execution_count": 18,
   "id": "794c82ff-0596-4b1d-9267-fc449cd91464",
   "metadata": {},
   "outputs": [
    {
     "ename": "NameError",
     "evalue": "name 'tokens' is not defined",
     "output_type": "error",
     "traceback": [
      "\u001b[1;31m---------------------------------------------------------------------------\u001b[0m",
      "\u001b[1;31mNameError\u001b[0m                                 Traceback (most recent call last)",
      "Cell \u001b[1;32mIn[18], line 1\u001b[0m\n\u001b[1;32m----> 1\u001b[0m \u001b[38;5;28mlen\u001b[39m(\u001b[43mtokens\u001b[49m)\n",
      "\u001b[1;31mNameError\u001b[0m: name 'tokens' is not defined"
     ]
    }
   ],
   "source": [
    "len(tokens)"
   ]
  },
  {
   "cell_type": "code",
   "execution_count": 19,
   "id": "da75f640-261c-4bc3-96b9-a79980e90187",
   "metadata": {},
   "outputs": [
    {
     "ename": "NameError",
     "evalue": "name 'tokens' is not defined",
     "output_type": "error",
     "traceback": [
      "\u001b[1;31m---------------------------------------------------------------------------\u001b[0m",
      "\u001b[1;31mNameError\u001b[0m                                 Traceback (most recent call last)",
      "Cell \u001b[1;32mIn[19], line 1\u001b[0m\n\u001b[1;32m----> 1\u001b[0m filtered_tokens \u001b[38;5;241m=\u001b[39m [token \u001b[38;5;28;01mfor\u001b[39;00m token \u001b[38;5;129;01min\u001b[39;00m \u001b[43mtokens\u001b[49m \u001b[38;5;28;01mif\u001b[39;00m token \u001b[38;5;129;01mnot\u001b[39;00m \u001b[38;5;129;01min\u001b[39;00m \u001b[38;5;28mset\u001b[39m(stopwords\u001b[38;5;241m.\u001b[39mwords(\u001b[38;5;124m'\u001b[39m\u001b[38;5;124marabic\u001b[39m\u001b[38;5;124m'\u001b[39m))]\n\u001b[0;32m      2\u001b[0m \u001b[38;5;28mprint\u001b[39m(filtered_tokens)\n\u001b[0;32m      3\u001b[0m \u001b[38;5;28mlen\u001b[39m(filtered_tokens)\n",
      "\u001b[1;31mNameError\u001b[0m: name 'tokens' is not defined"
     ]
    }
   ],
   "source": [
    "filtered_tokens = [token for token in tokens if token not in set(stopwords.words('arabic'))]\n",
    "print(filtered_tokens)\n",
    "len(filtered_tokens)"
   ]
  },
  {
   "cell_type": "code",
   "execution_count": 64,
   "id": "cd2fb80a-3b43-46cc-8dcf-e7ad58e78baa",
   "metadata": {},
   "outputs": [
    {
     "data": {
      "text/plain": [
       "'ﺭﺳﻤﻴﺎ ﺑﺪﺍﻳﺔ ﺍﻷﺳﺒﻮﻉ، ﻳﺒﺎﺷﺮ ﻟﺤﺴﻦ ﺍﻟﻐﺪﻳﺮ، ﺍﻟﻘﺎﺩﻡ ﺍﻟﺼﻨﺪﻭﻕ ﺍﻟﻮﻃﻨﻲ ﻟﻠﻀﻤﺎﻥ ﺍﻻﺟﺘﻤﺎﻋﻲ ﻛﻨﺎﺋﺐ ﻟﻠﻤﺪﻳﺮ ﺍﻟﻌﺎﻡ، ﻣﻬﺎﻣﻪ ﻣﺪﻳﺮﺍ ﺑﺎﻟﻨﻴﺎﺑﺔ ﻟﻠﺼﻨﺪﻭﻕ ﺍﻟﻮﻃﻨﻲ ﻟﻤﻨﻈﻤﺎﺕ ﺍﻻﺣﺘﻴﺎﻁ ﺍﻻﺟﺘﻤﺎﻋﻲ ﻛﻨﻮﺑﺲ؛ ﺧﻠﻔﺎ ﻟﻠﻤﺪﻳﺮ ﺍﻟﻌﺎﻡ ﺍﻟﺴﺎﺑﻖ ﺍﻟﻤﻌﻔﻰ ﻣﻬﺎﻣﻪ ﻗﺮﺍﺭ ﻟﺮﺋﻴﺲ ﺍﻟﺤﻜﻮﻣﺔ، ﻋﺰﻳﺰ ﺃﺧﻨﻮﺵ ﻭﺑﻴﻨﻤﺎ ﻳﻌﻠﻦ ﺑﻼﻍ ﻟﻠﺼﻨﺪﻭﻕ ﺍﻟﻮﻃﻨﻲ ﻟﻤﻨﻈﻤﺎﺕ ﺍﻻﺣﺘﻴﺎﻁ ﺍﻻﺟﺘﻤﺎﻋﻲ، ﻃﺎﻟﻌﺘﻪ ﺟﺮﻳﺪﺓ ﻫﺴﺒﺮﻳﺲ ﺍﻹﻟﻜﺘﺮﻭﻧﻴﺔ، ﺃﺳﺒﺎﺏ ﻭﺩﻭﺍﻋﻲ ﺍﻹﻋﻔﺎﺀﺍﻟﺘﻌﻴﻴﻦ ﺍﻟﻤﻔﺎﺟﺊ ﺗﻮﺻﻴﻒ ﻣﺘﺎﺑﻌﻴﻦ، ﺃﻛﺪ ﻣﺮﺍﺳﻢ ﺗﻨﺼﻴﺐ ﻟﺤﺴﻦ ﺍﻟﻐﺪﻳﺮ ﻣﺪﻳﺮﺍ ﻟﻠﺼﻨﺪﻭﻕ ﺍﻟﻮﻃﻨﻲ ﻟﻤﻨﻈﻤﺎﺕ ﺍﻻﺣﺘﻴﺎﻁ ﺍﻻﺟﺘﻤﺎﻋﻲ ﺑﺎﻟﻨﻴﺎﺑﺔ ﺟﺮﺕ ﺍﻟﺠﻤﻌﺔ ﺍﻟﻤﺎﺿﻲ ﻧﻮﻧﺒﺮ ﺇﺛﺮ ﺗﻌﻴﻴﻨﻪ ﻃﺮﻑ ﺭﺋﻴﺲ ﺍﻟﺤﻜﻮﻣﺔ، ﻭﺷﺎﺭﻙ ﻣﻴﻠﻮﺩ ﻣﻌﺼﻴﺪ ﺭﺋﻴﺲ ﺍﻟﻤﺠﻠﺲ ﺍﻹﺩﺍﺭﻱ ﻟﻠﺼﻨﺪﻭﻕ ﺫﺍﺗﻪ، ﻭﺑﺤﻀﻮﺭ ﺭﺅﺳﺎﺀ ﺍﻟﺘﻌﺎﺿﺪﻳﺎﺕ ﺍﻟﻤﺸﻜﻠﺔ ﻟﻜﻨﻮﺑﺲ ﻣﺴﺆﻭﻟﻲ ﺍﻟﻤﺼﺎﻟﺢ ﻭﺍﻷﻗﺴﺎﻡ ﻭﻣﻮﻇﻔﻲ ﺍﻟﺼﻨﺪﻭﻕ ﻣﺼﺪﺭ ﻣﻄﻠﻊ ﻗﺮﻳﺐ ﺍﻟﻤﻠﻒ ﺃﻛﺪ، ﺣﺪﻳﺚ ﻟﺠﺮﻳﺪﺓ ﻫﺴﺒﺮﻳﺲ ﺍﻹﻟﻜﺘﺮﻭﻧﻴﺔ، ﺍﻷﻣﺮ ﻣﻨﺘﻈﺮﺍ ﻣﻮﻇﻔﻲ ﻛﻨﻮﺑﺲ ﻭﻟﻴﺲ ﺑﻤﻔﺎﺟﺊ ﺇﻗﺮﺍﺭ ﺍﻟﺤﻜﻮﻣﺔ ﻭﻣﺼﺎﺩﻗﺘﻬﺎ ﻣﺸﺮﻭﻉ ﻗﺎﻧﻮﻥ ﻳﺪﻣﺞ ﻭﻳﻠﺤﻖ ﻭﻳﻮﺣﺪ ﺗﺪﺑﻴﺮ ﻧﻈﺎﻡ ﺍﻟﺘﺄﻣﻴﻦ ﺍﻷﺳﺎﺳﻲ ﺍﻟﻤﺮﺽ، ﺍﻧﺘﻈﺎﺭ ﻋﺮﺿﻪ ﻣﺴﻄﺮﺓ ﺍﻟﺘﺼﺪﻳﻖ ﺍﻟﺒﺮﻟﻤﺎﻥ ﻭﻣﻨﺎﻗﺸﺘﻪ ﻭﻗﺎﻝ ﻣﺼﺪﺭ ﻫﺴﺒﺮﻳﺲ ﺍﻹﻋﻔﺎﺀ ﻣﻨﺘﻈﺮﺍ، ﺻﺪﻭﺭ ﻗﺎﻧﻮﻥ ﺩﻣﺞ ﻭﺇﻟﺤﺎﻕ ﻛﻨﻮﺑﺲ ﺑـ، ﺍﻟﺠﺮﻳﺪﺓ ﺍﻟﺮﺳﻤﻴﺔ؛ ﺍﻟﻌﻮﺍﻣﻞ ﻋﺠﻠﺖ ﺑﺎﻟﻘﺮﺍﺭ ﺭﺩﻭﺩ ﺃﻓﻌﺎﻝ ﻣﺤﺴﻮﺑﺔ ﻟﻠﻤﺪﻳﺮ ﺍﻟﺴﺎﺑﻖ ﺿﺪﺍ ﻗﺮﺍﺭﺍﺕ ﺍﻟﺤﻜﻮﻣﺔ ﻭﺗﻮﺟﻬﻬﺎ ﺗﻨﺰﻳﻞ ﺁﺧﺮ ﻣﺮﺍﺣﻞ ﺍﻟﻘﺎﻧﻮﻥ ﺍﻹﻃﺎﺭ ﻟﻠﺘﻐﻄﻴﺔ ﺍﻟﺼﺤﻴﺔ ﻭﺍﻟﻘﺎﺿﻴﺔ ﺑﺘﻮﺣﻴﺪ ﺗﺪﺍﺑﻴﺮ ﺍﻷﻧﻈﻤﺔ ﻭﺗﻮﺣﻴﺪ ﺍﻟﺼﻨﺎﺩﻳﻖ ﺍﻟﻀﻤﺎﻥ ﺍﻻﺟﺘﻤﺎﻋﻲ، ﻣﻮﺿﺤﺎ ﺍﻷﻣﺮ ﺍﺳﺘﺒﺎﻕ ﻟﻤﻌﺎﻛﺴﺔ ﺗﻮﺟﻬﺎﺕ ﺍﻟﺤﻜﻮﻣﺔ، ﻗﺮﺍﺭ ﺍﻟﻤﺪﻳﺮ ﺍﻟﺴﺎﺑﻖ ﻓﺘﺢ ﺍﻟﺘﺒﺎﺭﻱ ﻣﻨﺎﺻﺐ ﻣﺴﺆﻭﻟﻴﺔ ﻣﻬﻤﺔ ﻛﻨﻮﺑﺲ ﺧﻼﻝ ﺍﻷﻳﺎﻡ ﺍﻷﺧﻴﺮﺓ ﺳﺒﻘﺖ ﺇﻋﻔﺎﺀﻩ ﻣﺮﺣﻠﺔ ﺍﻧﺘﻘﺎﻟﻴﺔ ﺳﻠﺴﺔ ﺗﻌﻠﻴﻘﺎ ﺍﻟﻤﻮﺿﻮﻉ ﻗﺎﻝ ﻋﻠﻲ ﻟﻄﻔﻲ، ﻓﺎﻋﻞ ﻧﻘﺎﺑﻲ ﺍﻟﻜﺎﺗﺐ ﺍﻟﻌﺎﻡ ﻟﻠﻤﻨﻈﻤﺔ ﺍﻟﺪﻳﻤﻘﺮﺍﻃﻴﺔ ﻟﻠﺸﻐﻞ ، ﻗﺮﺍﺭ ﺗﻌﻴﻴﻦ ﻣﺪﻳﺮ ﺟﺪﻳﺪ ﺑﺎﻟﻨﻴﺎﺑﺔ ﺑﺎﻟﻤﻮﺍﺯﺍﺓ ﻗﺮﺏ ﻣﻨﺎﻗﺸﺔ ﺍﻟﻤﺸﺮﻭﻉ ﺍﻟﺒﺮﻟﻤﺎﻥ ﻣﻨﺘﻈﺮﺍ، ﻭﺍﺿﻌﺎ ﺳﻴﺎﻕ ﺃﻋﻘﺐ ﺍﻟﻤﺼﺎﺩﻗﺔ ﺍﻟﺤﻜﻮﻣﻴﺔ ﻣﺸﺮﻭﻉ ﻗﺎﻧﻮﻥ ﺩﻣﺞ ﺍﻟﺼﻨﺪﻭﻗﻴﻦ، ﻟﻠﺘﻨﺰﻳﻞ ﺍﻷﻣﺜﻞ ﻟﻤﻘﺘﻀﻴﺎﺕ ﺍﻟﻘﺎﻧﻮﻥ ﺍﻹﻃﺎﺭ ﺍﻟﻤﺘﻌﻠﻖ ﺑﺎﻟﺤﻤﺎﻳﺔ ﺍﻻﺟﺘﻤﺎﻋﻴﺔ ﻭﺿﻤﺎﻥ ﻧﻘﻞ ﺍﺧﺘﺼﺎﺻﺎﺕ ﺍﻟﺼﻨﺪﻭﻕ ﺍﻟﻮﻃﻨﻲ ﻟﻤﻨﻈﻤﺎﺕ ﺍﻻﺣﺘﻴﺎﻁ ﺍﻻﺟﺘﻤﺎﻋﻲ ﻭﺍﻟﺘﻌﺎﺿﺪﻳﺎﺕ ﺍﻟﻤﺘﺄﻟﻒ ﺍﻟﻤﺘﻌﻠﻘﺔ ﺑﺘﺪﺑﻴﺮ ﻧﻈﺎﻡ ﺍﻟﺘﺄﻣﻴﻦ ﺍﻹﺟﺒﺎﺭﻱ ﺍﻷﺳﺎﺳﻲ ﺍﻟﻤﺮﺽ ﺍﻟﻘﻄﺎﻉ ﺍﻟﻌﺎﻡ ﺍﻟﺼﻨﺪﻭﻕ ﺍﻟﻮﻃﻨﻲ ﻟﻠﻀﻤﺎﻥ ﺍﻻﺟﺘﻤﺎﻋﻲ، ﺑﻜﻞ ﺳﻼﺳﺔ ﺑﺘﻌﺎﻭﻥ ﻭﺗﻨﺴﻴﻖ ﺍﻟﻤﺠﻠﺲ ﺍﻹﺩﺍﺭﻱ ﻟﻠﺼﻨﺪﻭﻕ ﻭﻓﻖ ﻟﻄﻔﻲ ﻣﺼﺮﺣﺎ ﻟﺠﺮﻳﺪﺓ ﻫﺴﺒﺮﻳﺲ، ﺍﻟﻤﺪﻳﺮ ﺍﻟﺴﺎﺑﻖ ﻟﻜﻨﻮﺑﺲ ﺭﻏﻢ ﺍﻟﺠﻬﻮﺩ ﺍﻟﻜﺒﻴﺮﺓ ﺑﺬﻟﻬﺎ ﺍﻟﺼﻨﺪﻭﻕ ﺍﻟﻮﻃﻨﻲ ﻟﻤﻨﻈﻤﺎﺕ ﺍﻻﺣﺘﻴﺎﻁ ﺍﻻﺟﺘﻤﺎﻋﻲ ﺗﺪﺑﻴﺮ ﻧﻈﺎﻡ ﺍﻟﺘﺄﻣﻴﻦ ﺍﻹﺟﺒﺎﺭﻱ ﺍﻷﺳﺎﺳﻲ ﺍﻟﻤﺮﺽ ﺍﻟﻘﻄﺎﻉ ﺍﻟﻌﺎﻡ، ﻣﻬﻤﺘﻪ ﺭﺃﺱ ﺍﻟﺼﻨﺪﻭﻕ ﺧﻀﻌﺖ ﻟﺘﻤﺪﻳﺪﻳﻦ ﺑﻠﻮﻍ ﺳﻦ ﺇﺣﺎﻟﺘﻪ ﺍﻟﺘﻘﺎﻋﺪ، ﻭﺍﻟﺤﻜﻮﻣﺔ ﺗﻘﻢ ﺑﻌﻤﻠﻴﺔ ﺗﻤﺪﻳﺪ ﺛﺎﻟﺜﺔ؛ ﺟﻌﻠﻪ ﻳﻤﺎﺭﺱ ﻣﻬﺎﻣﻪ ﺑﺸﻜﻞ ﻗﺎﻧﻮﻧﻲ ﻏﺎﻳﺔ ﺗﻌﻴﻴﻦ ﻧﺎﺋﺐ ﺍﻟﻤﺪﻳﺮ ﺍﻟﻌﺎﻡ ﻟـ ﻭﺫﻛﺮ ﺍﻟﻔﺎﻋﻞ ﺫﺍﺗﻪ ﺍﻟﻤﺸﺮﻉ ﻧﺺ ﺍﻟﻘﺎﻧﻮﻥ ﺍﻹﻃﺎﺭ ﺳﺎﻟﻒ ﺍﻟﺬﻛﺮ ﻫﻴﺌﺔ ﻭﺍﺣﺪﺓ ﻟﺘﺪﺑﻴﺮ ﻧﻈﺎﻡ ﺍﻟﺘﺄﻣﻴﻦ ﺍﻹﺟﺒﺎﺭﻱ ﺍﻷﺳﺎﺳﻲ ﺍﻟﻤﺮﺽ، ﻣﺜﻤﻨﺎ ﺍﻷﻣﺮ ﺑﺎﻋﺘﺒﺎﺭﻩ ﺧﻄﻮﺓ ﺇﻳﺠﺎﺑﻴﺔ ﺍﻟﺘﻨﺼﻴﺺ ﺇﻟﺤﺎﻕ ﺧﺪﻣﺎﺕ ﻭﻣﻮﻇﻔﻲ ﻛﻨﻮﺑﺲ ﺑﺎﻟﻀﻤﺎﻥ ﺍﻻﺟﺘﻤﺎﻋﻲ ﻭﺯﺍﺩ ﺗﻌﻴﻴﻦ ﺍﻟﻐﺪﻳﺮ ﻣﺪﻳﺮﺍ ﺑﺎﻟﻨﻴﺎﺑﺔ ﺇﺟﺮﺍﺀ ﻳﻀﻤﻦ ﻣﺮﻭﺭ ﺍﻟﻤﺮﺣﻠﺔ ﺍﻻﻧﺘﻘﺎﻟﻴﺔ ﻟﻤﺸﺮﻭﻉ ﺍﻟﺪﻣﺞ ﺑﺴﻼﺳﺔ ﻭﻛﻲ ﻳﺘﻤﻜﻦ ﺑﺘﻨﺰﻳﻞ ﻣﻀﺎﻣﻴﻦ ﺍﻟﻘﺎﻧﻮﻥ ﺍﻹﻃﺎﺭ، ﻣﺴﺘﺤﻀﺮﺍ ﻛﻨﻮﺑﺲ ﻛﺎﻧﺖ ﻋﺎﻧﺖ ﺍﺧﺘﻼﻻﺕ ﻧﺒﻪ ﺇﻟﻴﻬﺎ ﺍﻟﻤﺠﻠﺲ ﺍﻷﻋﻠﻰ ﻟﻠﺤﺴﺎﺑﺎﺕ ﻋﻬﺪ ﺍﻟﻤﺪﻳﺮ ﺍﻟﺴﺎﺑﻖ، ﺧﺼﻮﺻﺎ ﻃﻮﻝ ﻣﺪﺓ ﺍﺳﺘﺮﺩﺍﺩ ﻧﻔﻘﺎﺕ ﻣﺼﺎﺭﻳﻒ ﻋﻼﺝ ﺍﻟﻤﻨﺨﺮﻃﻴﻦ ﺗﺠﻮﻳﺪ ﺍﻟﺨﺪﻣﺎﺕ ﺍﻟﻤﻨﻮﺍﻝ ﻧﻔﺴﻪ ﻧﺴﺞ ﻣﻮﻻﻱ ﺇﺑﺮﺍﻫﻴﻢ ﺍﻟﻌﺜﻤﺎﻧﻲ، ﺭﺋﻴﺲ ﺍﻟﺘﻌﺎﺿﺪﻳﺔ ﺍﻟﻌﺎﻣﺔ ﻟﻤﻮﻇﻔﻲ ﺍﻹﺩﺍﺭﺍﺕ ﺍﻟﻌﻤﻮﻣﻴﺔ، ﻣﺆﻛﺪﺍ ﺍﻟﺪﻭﺭ ﺍﻟﺘﺎﺭﻳﺨﻲ ﻟﻌﺒﺘﻪ ﺍﻟﺘﻌﺎﺿﺪﻳﺎﺕ ﺍﻟﺜﻤﺎﻧﻴﺔ ﺍﻟﻤﺸﻜﻠﺔ ﻟﺼﻨﺪﻭﻕ ﻛﻨﻮﺑﺲ ﻣﺠﺎﻝ ﺍﻟﺘﻐﻄﻴﺔ ﺍﻟﺼﺤﻴﺔ، ﻭﺇﺭﺳﺎﺀ ﻧﻈﺎﻡ ﺍﻟﺘﺄﻣﻴﻦ ﺍﻻﺟﺒﺎﺭﻱ ﺍﻷﺳﺎﺳﻲ ﺍﻟﻤﺮﺽ ﺍﻟﻘﻄﺎﻉ ﺍﻟﻌﺎﻡ ﺩﺧﻮﻟﻪ ﺣﻴﺰ ﺍﻟﺘﻨﻔﻴﺬ ﺳﻨﺔ ، ﻣﻌﺘﺒﺮﺍ ﺗﻌﻴﻴﻦ ﻣﺪﻳﺮ ﺟﺪﻳﺪ ﺑﺎﻟﻨﻴﺎﺑﺔ ﺗﺴﻌﻰ ﺧﻼﻟﻪ ﺍﻟﺴﻠﻄﺎﺕ ﺍﻟﻮﺻﻴﺔ ﻣﻮﺍﺻﻠﺔ ﺍﻟﺘﻌﺎﻭﻥ ﻭﺍﻟﺘﻨﺴﻴﻖ ﻣﻌﻬﺎ ﻹﻧﺠﺎﺡ ﺗﻨﻔﻴﺬ ﺍﻟﻮﺭﺵ ﺍﻟﻤﻠﻜﻲ ﺍﻟﻄﻤﻮﺡ ﺍﻟﻤﺘﻌﻠﻖ ﺑﺘﻌﻤﻴﻢ ﺍﻟﺤﻤﺎﻳﺔ ﺍﻻﺟﺘﻤﺎﻋﻴﺔ ﻭﻗﺎﻝ ﺍﻟﻌﺜﻤﺎﻧﻲ ﻟﻬﺴﺒﺮﻳﺲ ﻗﺮﺍﺭ ﺇﻧﻬﺎﺀ ﻣﻬﺎﻡ ﺍﻟﻤﺪﻳﺮ ﺍﻟﺴﺎﺑﻖ ﻣﻨﺘﻈﺮﺍ ﺑﺎﻟﻨﻈﺮ ﺗﺴﺎﺭﻉ ﻣﺴﻠﺴﻞ ﺩﻣﺞ ﺍﻟﺼﻨﺪﻭﻗﻴﻦ ﺗﻄﺒﻴﻘﺎ ﻟﻠﻤﺎﺩﺓ ﺍﻟﻘﺎﻧﻮﻥ ﺍﻹﻃﺎﺭ، ﻣﺒﺮﺯﺍ ﻳﻬﺪﻑ ﺃﻫﻢ ﺍﻟﻮﺳﺎﺋﻞ ﻭﺍﻵﻟﻴﺎﺕ ﺿﻤﺎﻥ ﻣﺮﻭﺭ ﻣﻮﻓﻖ ﻭﺍﻧﺘﻘﺎﻝ ﺳﻠﺲ ﻟﻨﻈﺎﻡ ﺍﻟﺘﺄﻣﻴﻦ ﺍﻹﺟﺒﺎﺭﻱ ﻛﻨﻮﺑﺲ ﻭﻣﻨﺨﺮﻃﻴﻪ ﻣﺴﺆﻭﻟﻴﺔ ﺍﻟﺼﻨﺪﻭﻕ ﺍﻟﻮﻃﻨﻲ ﻟﻠﻀﻤﺎﻥ ﺍﻻﺟﺘﻤﺎﻋﻲ ﻭﺃﺷﺎﺭ ﺭﺋﻴﺲ ﺍﻟﺘﻌﺎﺿﺪﻳﺔ ﺍﻟﻘﺎﻧﻮﻥ ﻳﺘﺤﺪﺙ ﺗﻨﻔﻴﺬ ﻣﺘﺪﺭﺝ ﻭﻓﻖ ﻣﺮﺣﻠﺔ ﺍﻧﺘﻘﺎﻟﻴﺔ ﺗﺼﻞ ﺳﻨﻮﺍﺕ؛ ﺃﻣﺮ ﻃﺒﻴﻌﻲ ﺟﺪﺍ ﻣﺮﻭﺭ ﺍﻟﻘﺎﻧﻮﻥ ﻣﺮﺍﺣﻞ ﺍﻟﻤﺼﺎﺩﻗﺔ، ﻣﺸﺪﺩﺍ ﺗﻌﺎﺿﺪﻳﺎﺕ ﺍﻟﻘﻄﺎﻉ ﺍﻟﻌﺎﻡ ﻫﺪﻓﻬﺎ ﺇﻋﺎﺩﺓ ﺗﻄﻮﻳﺮ ﺍﻟﺘﺄﻣﻴﻦ ﺍﻟﺼﺤﻲ ﻭﺍﻟﻌﻤﻞ ﻣﺴﺘﻘﺒﻼ ﺗﻮﺳﻴﻊ ﺳﻠﺔ ﺍﻟﺨﺪﻣﺎﺕ ﻋﻠﻴﻬﺎ ﺗﻠﻌﺐ ﺩﻭﺭﻫﺎ ﺍﻟﺤﻘﻴﻘﻲ ﺗﻮﻓﻴﺮ ﺧﺪﻣﺎﺕ ﺻﺤﻴﺔ ﺃﺳﺎﺳﻴﺔ ﻟﻤﻨﺨﺮﻃﻴﻬﺎ ﺇﻃﺎﺭ ﺗﻌﻤﻴﻢ ﺍﻟﻮﺭﺵ ﺍﻟﻤﻠﻜﻲ ﺍﻟﺸﺎﻣﻞ ﻟﻠﺤﻤﺎﻳﺔ ﺍﻻﺟﺘﻤﺎﻋﻴﺔ'"
      ]
     },
     "execution_count": 64,
     "metadata": {},
     "output_type": "execute_result"
    }
   ],
   "source": [
    "# Normalize the text\n",
    "normalized_text = arabic_reshaper.reshape(' '.join(filtered_tokens))\n",
    "normalized_text"
   ]
  },
  {
   "cell_type": "code",
   "execution_count": 96,
   "id": "2a3f187c-b821-4c0f-8e37-3e0038a69f0a",
   "metadata": {},
   "outputs": [],
   "source": [
    "stemmer = SnowballStemmer('arabic')\n",
    "tokens = [\"كتب\", \"كتبت\", \"كتاب\", \"مكتبة\", \"يكتب\"]\n",
    "tokens = [stemmer.stem(word) for word in tokens]"
   ]
  },
  {
   "cell_type": "code",
   "execution_count": 98,
   "id": "14eaeea5-6bbb-4792-98f9-1065a0cc825c",
   "metadata": {},
   "outputs": [
    {
     "name": "stdout",
     "output_type": "stream",
     "text": [
      "['كتب', 'كتب', 'كتاب', 'مكتب', 'يكتب']\n"
     ]
    }
   ],
   "source": [
    "print(tokens)"
   ]
  },
  {
   "cell_type": "markdown",
   "id": "d8e34eac-b78c-43ec-b531-2d41b3bd230e",
   "metadata": {},
   "source": [
    "## prepare le pip"
   ]
  },
  {
   "cell_type": "code",
   "execution_count": 21,
   "id": "951f7506-0e5f-454e-97e3-4195ec20669f",
   "metadata": {},
   "outputs": [
    {
     "name": "stderr",
     "output_type": "stream",
     "text": [
      "[nltk_data] Downloading package stopwords to\n",
      "[nltk_data]     C:\\Users\\HP\\AppData\\Roaming\\nltk_data...\n",
      "[nltk_data]   Package stopwords is already up-to-date!\n",
      "[nltk_data] Downloading package punkt to\n",
      "[nltk_data]     C:\\Users\\HP\\AppData\\Roaming\\nltk_data...\n",
      "[nltk_data]   Package punkt is already up-to-date!\n"
     ]
    }
   ],
   "source": [
    "# Télécharger les ressources NLTK si nécessaire\n",
    "nltk.download('stopwords')\n",
    "nltk.download('punkt')\n",
    "\n",
    "# Préparer le pipeline\n",
    "arabic_stopwords = set(stopwords.words('arabic'))\n",
    "stemmer = SnowballStemmer('arabic')\n"
   ]
  },
  {
   "cell_type": "code",
   "execution_count": 22,
   "id": "e8694a08-f6ec-49ba-8787-dde93b1e2579",
   "metadata": {},
   "outputs": [],
   "source": [
    "def preprocess_text(text):\n",
    "    # Tokenisation\n",
    "    tokens = word_tokenize(text)\n",
    "    # Suppression des mots vides ( in stopwords)\n",
    "    tokens = [ word for word in tokens if word not in arabic_stopwords]\n",
    "    # Racination\n",
    "    tokens = [stemmer.stem(word) for word in tokens]\n",
    "    # Reconstruction du texte\n",
    "    return ' '.join(tokens)"
   ]
  },
  {
   "cell_type": "code",
   "execution_count": 23,
   "id": "8183352a-a742-41ca-ae51-d5a17a334750",
   "metadata": {},
   "outputs": [
    {
     "name": "stderr",
     "output_type": "stream",
     "text": [
      "C:\\Users\\HP\\AppData\\Local\\Temp\\ipykernel_13332\\3608983045.py:2: SettingWithCopyWarning: \n",
      "A value is trying to be set on a copy of a slice from a DataFrame.\n",
      "Try using .loc[row_indexer,col_indexer] = value instead\n",
      "\n",
      "See the caveats in the documentation: https://pandas.pydata.org/pandas-docs/stable/user_guide/indexing.html#returning-a-view-versus-a-copy\n",
      "  new_data['processed_text'] = new_data['post_content'].apply(preprocess_text)\n"
     ]
    }
   ],
   "source": [
    "# Appliquer le pipeline aux textes\n",
    "new_data['processed_text'] = new_data['post_content'].apply(preprocess_text)"
   ]
  },
  {
   "cell_type": "code",
   "execution_count": 24,
   "id": "7cb76a5a-4f8e-4b52-a7d5-2b33fa8d534c",
   "metadata": {},
   "outputs": [
    {
     "name": "stdout",
     "output_type": "stream",
     "text": [
      "                                        post_content  \\\n",
      "0  تسلح يونس السكوري، وزير الإدماج الاقتصادي والم...   \n",
      "1  أعادت واقعة “الاعتداء” الذي طال مسؤولا روسيا ف...   \n",
      "2  على بعد أسابيع من احتفالات رأس السنة تتجدد الم...   \n",
      "3  كشف وزير العدل، عبد اللطيف وهبي، وجود محاولات ...   \n",
      "4  نعت “مؤسسة دار الحديث الحسنية” التابعة لجامعة ...   \n",
      "\n",
      "                                      processed_text  \n",
      "0  تسلح يونس سكور زير ادماج اقتصاد مقاول صغرى تشغ...  \n",
      "1  اعاد واقع “ اعتداء ” طال مسوول روس دار بيضاء ن...  \n",
      "2  اسابيع احتفال راس السن تتجدد مخاوف ارتفاع حال ...  \n",
      "3  كشف زير عدل عبد لطيف وهب جود محاول تخوض وزار ل...  \n",
      "4  نعت “ موسس دار حديث حسن ” تابع جامع قرو اكاديم...  \n"
     ]
    }
   ],
   "source": [
    "# Afficher un aperçu des textes prétraités\n",
    "print(new_data[['post_content', 'processed_text']].head())"
   ]
  },
  {
   "cell_type": "code",
   "execution_count": 25,
   "id": "2c6319f7-e3b8-4a6d-9405-4c42bef19547",
   "metadata": {},
   "outputs": [
    {
     "name": "stdout",
     "output_type": "stream",
     "text": [
      "Index(['post_content', 'note', 'processed_text'], dtype='object')\n"
     ]
    }
   ],
   "source": [
    "print(new_data.columns)"
   ]
  },
  {
   "cell_type": "code",
   "execution_count": 26,
   "id": "2b77eb9d-df22-4571-afe5-83cbabd99861",
   "metadata": {},
   "outputs": [
    {
     "data": {
      "text/plain": [
       "(12, 3)"
      ]
     },
     "execution_count": 26,
     "metadata": {},
     "output_type": "execute_result"
    }
   ],
   "source": [
    "new_data.shape"
   ]
  },
  {
   "cell_type": "code",
   "execution_count": 112,
   "id": "c67c359a-c97e-4335-b8c4-652c937a5276",
   "metadata": {},
   "outputs": [],
   "source": [
    "new_data = new_data.drop('post_content_re', axis=1)"
   ]
  },
  {
   "cell_type": "code",
   "execution_count": 27,
   "id": "1cfc0bec-9762-4d4a-b1de-32f4bd8716c7",
   "metadata": {},
   "outputs": [],
   "source": [
    "new_data.to_csv(\"datasets\\hespress_proceced\", index=False)"
   ]
  },
  {
   "cell_type": "markdown",
   "id": "977d3ffb-6dfb-4f66-afc9-660fcdaeb311",
   "metadata": {},
   "source": [
    "# preparation donnees"
   ]
  },
  {
   "cell_type": "code",
   "execution_count": null,
   "id": "0b41d90d-86fa-4ba2-be9b-dd2a4f38c082",
   "metadata": {},
   "outputs": [],
   "source": [
    "import torch\n",
    "from torchtext.vocab import build_vocab_from_iterator\n",
    "from torch.utils.data import DataLoader, Dataset\n",
    "\n",
    "\n",
    "\n",
    "# Tokenisation simple\n",
    "data['tokens'] = new_data['processed_text'].apply(lambda x: x.split())\n",
    "\n",
    "# Construire un vocabulaire\n",
    "vocab = build_vocab_from_iterator(data['tokens'], specials=[\"<unk>\"])\n",
    "vocab.set_default_index(vocab[\"<unk>\"])\n",
    "\n",
    "# Transformer les textes en séquences d'entiers\n",
    "data['encoded'] = data['tokens'].apply(lambda x: [vocab[token] for token in x])\n",
    "\n",
    "# Remplir ou tronquer les séquences pour une longueur fixe\n",
    "MAX_LEN = 50\n",
    "data['padded'] = data['encoded'].apply(lambda x: x[:MAX_LEN] + [0] * max(0, MAX_LEN - len(x)))\n"
   ]
  }
 ],
 "metadata": {
  "kernelspec": {
   "display_name": "Python 3 (ipykernel)",
   "language": "python",
   "name": "python3"
  },
  "language_info": {
   "codemirror_mode": {
    "name": "ipython",
    "version": 3
   },
   "file_extension": ".py",
   "mimetype": "text/x-python",
   "name": "python",
   "nbconvert_exporter": "python",
   "pygments_lexer": "ipython3",
   "version": "3.9.0"
  }
 },
 "nbformat": 4,
 "nbformat_minor": 5
}
